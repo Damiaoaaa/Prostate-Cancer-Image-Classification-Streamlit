{
 "cells": [
  {
   "cell_type": "markdown",
   "id": "55d02409",
   "metadata": {
    "papermill": {
     "duration": 0.009163,
     "end_time": "2023-01-08T03:13:12.652457",
     "exception": false,
     "start_time": "2023-01-08T03:13:12.643294",
     "status": "completed"
    },
    "tags": []
   },
   "source": [
    "<div style=\"width:100%;text-align: center;\"> <img align=middle src=\"https://www.mdpi.com/cancers/cancers-11-01937/article_deploy/html/images/cancers-11-01937-g001.png\" alt=\"Heat beating\" style=\"height:366px;margin-top:3rem;\"> </div>"
   ]
  },
  {
   "cell_type": "markdown",
   "id": "8061ff35",
   "metadata": {
    "papermill": {
     "duration": 0.007581,
     "end_time": "2023-01-08T03:13:12.666235",
     "exception": false,
     "start_time": "2023-01-08T03:13:12.658654",
     "status": "completed"
    },
    "tags": []
   },
   "source": [
    "# <h1 style='background:#FAC213; border:0; color:white'><center>Prostate Cancer Classification</center></h1>"
   ]
  },
  {
   "cell_type": "markdown",
   "id": "9f045ef8",
   "metadata": {
    "papermill": {
     "duration": 0.00592,
     "end_time": "2023-01-08T03:13:12.680860",
     "exception": false,
     "start_time": "2023-01-08T03:13:12.674940",
     "status": "completed"
    },
    "tags": []
   },
   "source": [
    "# **<span style=\"color:#cd486b;\">About the Dataset</span>**\n",
    "\n",
    "The dataset contains images of Prostate cancel from Benign and Grade 3-5 to make Gleason Score classification.\n",
    "\n",
    "# **<span style=\"color:#cd486b;\">About the files</span>**\n",
    "\n",
    "The dataset contains 2 folders: one with the test data and the other one with train data.\n",
    "The test-train-split ratio is 0.2, with the test dataset containing 40 images and the train dataset containing 153.\n",
    "The images have a resolution of 240x240 pixels in RGB color model.\n",
    "Both the folders contain 4 classes:\n",
    "\n",
    "> Benign\n",
    "\n",
    "> Grade 3\n",
    "\n",
    "> Grade 4\n",
    "\n",
    "> Grade 5"
   ]
  },
  {
   "cell_type": "code",
   "execution_count": 1,
   "id": "79f7ad33",
   "metadata": {
    "execution": {
     "iopub.execute_input": "2023-01-08T03:13:12.698480Z",
     "iopub.status.busy": "2023-01-08T03:13:12.697910Z",
     "iopub.status.idle": "2023-01-08T03:13:12.711301Z",
     "shell.execute_reply": "2023-01-08T03:13:12.709901Z"
    },
    "papermill": {
     "duration": 0.026218,
     "end_time": "2023-01-08T03:13:12.715794",
     "exception": false,
     "start_time": "2023-01-08T03:13:12.689576",
     "status": "completed"
    },
    "tags": []
   },
   "outputs": [],
   "source": [
    "#Environment check\n",
    "import os\n",
    "import warnings\n",
    "warnings.filterwarnings(\"ignore\")"
   ]
  },
  {
   "cell_type": "code",
   "execution_count": 2,
   "id": "44e3aec9",
   "metadata": {
    "execution": {
     "iopub.execute_input": "2023-01-08T03:13:12.737062Z",
     "iopub.status.busy": "2023-01-08T03:13:12.736145Z",
     "iopub.status.idle": "2023-01-08T03:13:19.530554Z",
     "shell.execute_reply": "2023-01-08T03:13:19.529583Z"
    },
    "papermill": {
     "duration": 6.806824,
     "end_time": "2023-01-08T03:13:19.532922",
     "exception": false,
     "start_time": "2023-01-08T03:13:12.726098",
     "status": "completed"
    },
    "tags": []
   },
   "outputs": [],
   "source": [
    "#Imports\n",
    "import tensorflow as tf\n",
    "from tensorflow import keras\n",
    "from tensorflow.keras.preprocessing import image\n",
    "from tensorflow.keras.preprocessing.image import ImageDataGenerator\n",
    "from tensorflow.keras.models import Sequential\n",
    "from tensorflow.keras.layers import Conv2D, Flatten, MaxPooling2D, Dense, Dropout, GlobalAveragePooling2D\n",
    "from tensorflow.keras import optimizers, losses\n",
    "import seaborn as sns\n",
    "import matplotlib.pyplot as plt\n",
    "import pandas as pd"
   ]
  },
  {
   "cell_type": "markdown",
   "id": "42fc546b",
   "metadata": {
    "papermill": {
     "duration": 0.004133,
     "end_time": "2023-01-08T03:13:19.541756",
     "exception": false,
     "start_time": "2023-01-08T03:13:19.537623",
     "status": "completed"
    },
    "tags": []
   },
   "source": [
    "# **<span style=\"color:#cd486b;\">Get Data and apply some augmentation</span>**\n"
   ]
  },
  {
   "cell_type": "code",
   "execution_count": 3,
   "id": "9a80625c",
   "metadata": {
    "execution": {
     "iopub.execute_input": "2023-01-08T03:13:19.553538Z",
     "iopub.status.busy": "2023-01-08T03:13:19.551675Z",
     "iopub.status.idle": "2023-01-08T03:13:19.556974Z",
     "shell.execute_reply": "2023-01-08T03:13:19.556018Z"
    },
    "papermill": {
     "duration": 0.012838,
     "end_time": "2023-01-08T03:13:19.559027",
     "exception": false,
     "start_time": "2023-01-08T03:13:19.546189",
     "status": "completed"
    },
    "tags": []
   },
   "outputs": [],
   "source": [
    "train_dir = \"../input/prostate-cancer-classification-ukm/Prostate_Split/Train/\"\n",
    "test_dir = \"../input/prostate-cancer-classification-ukm/Prostate_Split/Test/\""
   ]
  },
  {
   "cell_type": "code",
   "execution_count": 4,
   "id": "911d9f46",
   "metadata": {
    "execution": {
     "iopub.execute_input": "2023-01-08T03:13:19.568629Z",
     "iopub.status.busy": "2023-01-08T03:13:19.568348Z",
     "iopub.status.idle": "2023-01-08T03:13:19.573330Z",
     "shell.execute_reply": "2023-01-08T03:13:19.572258Z"
    },
    "papermill": {
     "duration": 0.012475,
     "end_time": "2023-01-08T03:13:19.575737",
     "exception": false,
     "start_time": "2023-01-08T03:13:19.563262",
     "status": "completed"
    },
    "tags": []
   },
   "outputs": [],
   "source": [
    "train_datagen = ImageDataGenerator(rescale = 1./ 255, rotation_range = 40, width_shift_range = 0.2, height_shift_range = 0.2,\n",
    "                                  shear_range = 0.2, zoom_range = 0.2, horizontal_flip = True, fill_mode = 'nearest')"
   ]
  },
  {
   "cell_type": "code",
   "execution_count": 5,
   "id": "09685607",
   "metadata": {
    "execution": {
     "iopub.execute_input": "2023-01-08T03:13:19.586558Z",
     "iopub.status.busy": "2023-01-08T03:13:19.586248Z",
     "iopub.status.idle": "2023-01-08T03:13:19.590801Z",
     "shell.execute_reply": "2023-01-08T03:13:19.589792Z"
    },
    "papermill": {
     "duration": 0.011849,
     "end_time": "2023-01-08T03:13:19.593082",
     "exception": false,
     "start_time": "2023-01-08T03:13:19.581233",
     "status": "completed"
    },
    "tags": []
   },
   "outputs": [],
   "source": [
    "test_datagen = ImageDataGenerator(rescale = 1./ 255)"
   ]
  },
  {
   "cell_type": "code",
   "execution_count": 6,
   "id": "d93d3ec7",
   "metadata": {
    "execution": {
     "iopub.execute_input": "2023-01-08T03:13:19.602845Z",
     "iopub.status.busy": "2023-01-08T03:13:19.602575Z",
     "iopub.status.idle": "2023-01-08T03:13:19.826053Z",
     "shell.execute_reply": "2023-01-08T03:13:19.824839Z"
    },
    "papermill": {
     "duration": 0.232818,
     "end_time": "2023-01-08T03:13:19.830244",
     "exception": false,
     "start_time": "2023-01-08T03:13:19.597426",
     "status": "completed"
    },
    "tags": []
   },
   "outputs": [
    {
     "name": "stdout",
     "output_type": "stream",
     "text": [
      "Found 153 images belonging to 4 classes.\n",
      "Found 40 images belonging to 4 classes.\n"
     ]
    }
   ],
   "source": [
    "train_data = train_datagen.flow_from_directory(directory = train_dir, batch_size = 32, target_size = (240,240), class_mode = \"categorical\", shuffle = False)\n",
    "test_data = test_datagen.flow_from_directory(directory = test_dir, batch_size = 32, target_size = (240,240), class_mode = \"categorical\")"
   ]
  },
  {
   "cell_type": "code",
   "execution_count": 7,
   "id": "07b7b5db",
   "metadata": {
    "execution": {
     "iopub.execute_input": "2023-01-08T03:13:19.841813Z",
     "iopub.status.busy": "2023-01-08T03:13:19.841518Z",
     "iopub.status.idle": "2023-01-08T03:13:19.849762Z",
     "shell.execute_reply": "2023-01-08T03:13:19.848206Z"
    },
    "papermill": {
     "duration": 0.016615,
     "end_time": "2023-01-08T03:13:19.852283",
     "exception": false,
     "start_time": "2023-01-08T03:13:19.835668",
     "status": "completed"
    },
    "tags": []
   },
   "outputs": [
    {
     "name": "stdout",
     "output_type": "stream",
     "text": [
      "10\n",
      "10\n",
      "10\n",
      "10\n"
     ]
    }
   ],
   "source": [
    "print(len(os.listdir(test_dir + 'Benign')))\n",
    "print(len(os.listdir(test_dir + 'G3')))\n",
    "print(len(os.listdir(test_dir + 'G4')))\n",
    "print(len(os.listdir(test_dir + 'G5')))"
   ]
  },
  {
   "cell_type": "code",
   "execution_count": 8,
   "id": "c0cd9ba7",
   "metadata": {
    "execution": {
     "iopub.execute_input": "2023-01-08T03:13:19.863209Z",
     "iopub.status.busy": "2023-01-08T03:13:19.862920Z",
     "iopub.status.idle": "2023-01-08T03:13:22.862076Z",
     "shell.execute_reply": "2023-01-08T03:13:22.861192Z"
    },
    "papermill": {
     "duration": 3.006991,
     "end_time": "2023-01-08T03:13:22.864368",
     "exception": false,
     "start_time": "2023-01-08T03:13:19.857377",
     "status": "completed"
    },
    "tags": []
   },
   "outputs": [
    {
     "data": {
      "text/html": [
       "        <script type=\"text/javascript\">\n",
       "        window.PlotlyConfig = {MathJaxConfig: 'local'};\n",
       "        if (window.MathJax && window.MathJax.Hub && window.MathJax.Hub.Config) {window.MathJax.Hub.Config({SVG: {font: \"STIX-Web\"}});}\n",
       "        if (typeof require !== 'undefined') {\n",
       "        require.undef(\"plotly\");\n",
       "        requirejs.config({\n",
       "            paths: {\n",
       "                'plotly': ['https://cdn.plot.ly/plotly-2.16.1.min']\n",
       "            }\n",
       "        });\n",
       "        require(['plotly'], function(Plotly) {\n",
       "            window._Plotly = Plotly;\n",
       "        });\n",
       "        }\n",
       "        </script>\n",
       "        "
      ]
     },
     "metadata": {},
     "output_type": "display_data"
    },
    {
     "data": {
      "text/html": [
       "<div>                            <div id=\"8a3a5d12-482b-4a15-9ca2-2f5674e1ab22\" class=\"plotly-graph-div\" style=\"height:525px; width:100%;\"></div>            <script type=\"text/javascript\">                require([\"plotly\"], function(Plotly) {                    window.PLOTLYENV=window.PLOTLYENV || {};                                    if (document.getElementById(\"8a3a5d12-482b-4a15-9ca2-2f5674e1ab22\")) {                    Plotly.newPlot(                        \"8a3a5d12-482b-4a15-9ca2-2f5674e1ab22\",                        [{\"domain\":{\"x\":[0.0,1.0],\"y\":[0.0,1.0]},\"hovertemplate\":\"label=%{label}<br>value=%{value}<extra></extra>\",\"labels\":[\"Benign\",\"G3\",\"G4\",\"G5\"],\"legendgroup\":\"\",\"name\":\"\",\"showlegend\":true,\"values\":[42,31,46,34],\"type\":\"pie\"}],                        {\"template\":{\"data\":{\"histogram2dcontour\":[{\"type\":\"histogram2dcontour\",\"colorbar\":{\"outlinewidth\":0,\"ticks\":\"\"},\"colorscale\":[[0.0,\"#0d0887\"],[0.1111111111111111,\"#46039f\"],[0.2222222222222222,\"#7201a8\"],[0.3333333333333333,\"#9c179e\"],[0.4444444444444444,\"#bd3786\"],[0.5555555555555556,\"#d8576b\"],[0.6666666666666666,\"#ed7953\"],[0.7777777777777778,\"#fb9f3a\"],[0.8888888888888888,\"#fdca26\"],[1.0,\"#f0f921\"]]}],\"choropleth\":[{\"type\":\"choropleth\",\"colorbar\":{\"outlinewidth\":0,\"ticks\":\"\"}}],\"histogram2d\":[{\"type\":\"histogram2d\",\"colorbar\":{\"outlinewidth\":0,\"ticks\":\"\"},\"colorscale\":[[0.0,\"#0d0887\"],[0.1111111111111111,\"#46039f\"],[0.2222222222222222,\"#7201a8\"],[0.3333333333333333,\"#9c179e\"],[0.4444444444444444,\"#bd3786\"],[0.5555555555555556,\"#d8576b\"],[0.6666666666666666,\"#ed7953\"],[0.7777777777777778,\"#fb9f3a\"],[0.8888888888888888,\"#fdca26\"],[1.0,\"#f0f921\"]]}],\"heatmap\":[{\"type\":\"heatmap\",\"colorbar\":{\"outlinewidth\":0,\"ticks\":\"\"},\"colorscale\":[[0.0,\"#0d0887\"],[0.1111111111111111,\"#46039f\"],[0.2222222222222222,\"#7201a8\"],[0.3333333333333333,\"#9c179e\"],[0.4444444444444444,\"#bd3786\"],[0.5555555555555556,\"#d8576b\"],[0.6666666666666666,\"#ed7953\"],[0.7777777777777778,\"#fb9f3a\"],[0.8888888888888888,\"#fdca26\"],[1.0,\"#f0f921\"]]}],\"heatmapgl\":[{\"type\":\"heatmapgl\",\"colorbar\":{\"outlinewidth\":0,\"ticks\":\"\"},\"colorscale\":[[0.0,\"#0d0887\"],[0.1111111111111111,\"#46039f\"],[0.2222222222222222,\"#7201a8\"],[0.3333333333333333,\"#9c179e\"],[0.4444444444444444,\"#bd3786\"],[0.5555555555555556,\"#d8576b\"],[0.6666666666666666,\"#ed7953\"],[0.7777777777777778,\"#fb9f3a\"],[0.8888888888888888,\"#fdca26\"],[1.0,\"#f0f921\"]]}],\"contourcarpet\":[{\"type\":\"contourcarpet\",\"colorbar\":{\"outlinewidth\":0,\"ticks\":\"\"}}],\"contour\":[{\"type\":\"contour\",\"colorbar\":{\"outlinewidth\":0,\"ticks\":\"\"},\"colorscale\":[[0.0,\"#0d0887\"],[0.1111111111111111,\"#46039f\"],[0.2222222222222222,\"#7201a8\"],[0.3333333333333333,\"#9c179e\"],[0.4444444444444444,\"#bd3786\"],[0.5555555555555556,\"#d8576b\"],[0.6666666666666666,\"#ed7953\"],[0.7777777777777778,\"#fb9f3a\"],[0.8888888888888888,\"#fdca26\"],[1.0,\"#f0f921\"]]}],\"surface\":[{\"type\":\"surface\",\"colorbar\":{\"outlinewidth\":0,\"ticks\":\"\"},\"colorscale\":[[0.0,\"#0d0887\"],[0.1111111111111111,\"#46039f\"],[0.2222222222222222,\"#7201a8\"],[0.3333333333333333,\"#9c179e\"],[0.4444444444444444,\"#bd3786\"],[0.5555555555555556,\"#d8576b\"],[0.6666666666666666,\"#ed7953\"],[0.7777777777777778,\"#fb9f3a\"],[0.8888888888888888,\"#fdca26\"],[1.0,\"#f0f921\"]]}],\"mesh3d\":[{\"type\":\"mesh3d\",\"colorbar\":{\"outlinewidth\":0,\"ticks\":\"\"}}],\"scatter\":[{\"fillpattern\":{\"fillmode\":\"overlay\",\"size\":10,\"solidity\":0.2},\"type\":\"scatter\"}],\"parcoords\":[{\"type\":\"parcoords\",\"line\":{\"colorbar\":{\"outlinewidth\":0,\"ticks\":\"\"}}}],\"scatterpolargl\":[{\"type\":\"scatterpolargl\",\"marker\":{\"colorbar\":{\"outlinewidth\":0,\"ticks\":\"\"}}}],\"bar\":[{\"error_x\":{\"color\":\"#2a3f5f\"},\"error_y\":{\"color\":\"#2a3f5f\"},\"marker\":{\"line\":{\"color\":\"#E5ECF6\",\"width\":0.5},\"pattern\":{\"fillmode\":\"overlay\",\"size\":10,\"solidity\":0.2}},\"type\":\"bar\"}],\"scattergeo\":[{\"type\":\"scattergeo\",\"marker\":{\"colorbar\":{\"outlinewidth\":0,\"ticks\":\"\"}}}],\"scatterpolar\":[{\"type\":\"scatterpolar\",\"marker\":{\"colorbar\":{\"outlinewidth\":0,\"ticks\":\"\"}}}],\"histogram\":[{\"marker\":{\"pattern\":{\"fillmode\":\"overlay\",\"size\":10,\"solidity\":0.2}},\"type\":\"histogram\"}],\"scattergl\":[{\"type\":\"scattergl\",\"marker\":{\"colorbar\":{\"outlinewidth\":0,\"ticks\":\"\"}}}],\"scatter3d\":[{\"type\":\"scatter3d\",\"line\":{\"colorbar\":{\"outlinewidth\":0,\"ticks\":\"\"}},\"marker\":{\"colorbar\":{\"outlinewidth\":0,\"ticks\":\"\"}}}],\"scattermapbox\":[{\"type\":\"scattermapbox\",\"marker\":{\"colorbar\":{\"outlinewidth\":0,\"ticks\":\"\"}}}],\"scatterternary\":[{\"type\":\"scatterternary\",\"marker\":{\"colorbar\":{\"outlinewidth\":0,\"ticks\":\"\"}}}],\"scattercarpet\":[{\"type\":\"scattercarpet\",\"marker\":{\"colorbar\":{\"outlinewidth\":0,\"ticks\":\"\"}}}],\"carpet\":[{\"aaxis\":{\"endlinecolor\":\"#2a3f5f\",\"gridcolor\":\"white\",\"linecolor\":\"white\",\"minorgridcolor\":\"white\",\"startlinecolor\":\"#2a3f5f\"},\"baxis\":{\"endlinecolor\":\"#2a3f5f\",\"gridcolor\":\"white\",\"linecolor\":\"white\",\"minorgridcolor\":\"white\",\"startlinecolor\":\"#2a3f5f\"},\"type\":\"carpet\"}],\"table\":[{\"cells\":{\"fill\":{\"color\":\"#EBF0F8\"},\"line\":{\"color\":\"white\"}},\"header\":{\"fill\":{\"color\":\"#C8D4E3\"},\"line\":{\"color\":\"white\"}},\"type\":\"table\"}],\"barpolar\":[{\"marker\":{\"line\":{\"color\":\"#E5ECF6\",\"width\":0.5},\"pattern\":{\"fillmode\":\"overlay\",\"size\":10,\"solidity\":0.2}},\"type\":\"barpolar\"}],\"pie\":[{\"automargin\":true,\"type\":\"pie\"}]},\"layout\":{\"autotypenumbers\":\"strict\",\"colorway\":[\"#636efa\",\"#EF553B\",\"#00cc96\",\"#ab63fa\",\"#FFA15A\",\"#19d3f3\",\"#FF6692\",\"#B6E880\",\"#FF97FF\",\"#FECB52\"],\"font\":{\"color\":\"#2a3f5f\"},\"hovermode\":\"closest\",\"hoverlabel\":{\"align\":\"left\"},\"paper_bgcolor\":\"white\",\"plot_bgcolor\":\"#E5ECF6\",\"polar\":{\"bgcolor\":\"#E5ECF6\",\"angularaxis\":{\"gridcolor\":\"white\",\"linecolor\":\"white\",\"ticks\":\"\"},\"radialaxis\":{\"gridcolor\":\"white\",\"linecolor\":\"white\",\"ticks\":\"\"}},\"ternary\":{\"bgcolor\":\"#E5ECF6\",\"aaxis\":{\"gridcolor\":\"white\",\"linecolor\":\"white\",\"ticks\":\"\"},\"baxis\":{\"gridcolor\":\"white\",\"linecolor\":\"white\",\"ticks\":\"\"},\"caxis\":{\"gridcolor\":\"white\",\"linecolor\":\"white\",\"ticks\":\"\"}},\"coloraxis\":{\"colorbar\":{\"outlinewidth\":0,\"ticks\":\"\"}},\"colorscale\":{\"sequential\":[[0.0,\"#0d0887\"],[0.1111111111111111,\"#46039f\"],[0.2222222222222222,\"#7201a8\"],[0.3333333333333333,\"#9c179e\"],[0.4444444444444444,\"#bd3786\"],[0.5555555555555556,\"#d8576b\"],[0.6666666666666666,\"#ed7953\"],[0.7777777777777778,\"#fb9f3a\"],[0.8888888888888888,\"#fdca26\"],[1.0,\"#f0f921\"]],\"sequentialminus\":[[0.0,\"#0d0887\"],[0.1111111111111111,\"#46039f\"],[0.2222222222222222,\"#7201a8\"],[0.3333333333333333,\"#9c179e\"],[0.4444444444444444,\"#bd3786\"],[0.5555555555555556,\"#d8576b\"],[0.6666666666666666,\"#ed7953\"],[0.7777777777777778,\"#fb9f3a\"],[0.8888888888888888,\"#fdca26\"],[1.0,\"#f0f921\"]],\"diverging\":[[0,\"#8e0152\"],[0.1,\"#c51b7d\"],[0.2,\"#de77ae\"],[0.3,\"#f1b6da\"],[0.4,\"#fde0ef\"],[0.5,\"#f7f7f7\"],[0.6,\"#e6f5d0\"],[0.7,\"#b8e186\"],[0.8,\"#7fbc41\"],[0.9,\"#4d9221\"],[1,\"#276419\"]]},\"xaxis\":{\"gridcolor\":\"white\",\"linecolor\":\"white\",\"ticks\":\"\",\"title\":{\"standoff\":15},\"zerolinecolor\":\"white\",\"automargin\":true,\"zerolinewidth\":2},\"yaxis\":{\"gridcolor\":\"white\",\"linecolor\":\"white\",\"ticks\":\"\",\"title\":{\"standoff\":15},\"zerolinecolor\":\"white\",\"automargin\":true,\"zerolinewidth\":2},\"scene\":{\"xaxis\":{\"backgroundcolor\":\"#E5ECF6\",\"gridcolor\":\"white\",\"linecolor\":\"white\",\"showbackground\":true,\"ticks\":\"\",\"zerolinecolor\":\"white\",\"gridwidth\":2},\"yaxis\":{\"backgroundcolor\":\"#E5ECF6\",\"gridcolor\":\"white\",\"linecolor\":\"white\",\"showbackground\":true,\"ticks\":\"\",\"zerolinecolor\":\"white\",\"gridwidth\":2},\"zaxis\":{\"backgroundcolor\":\"#E5ECF6\",\"gridcolor\":\"white\",\"linecolor\":\"white\",\"showbackground\":true,\"ticks\":\"\",\"zerolinecolor\":\"white\",\"gridwidth\":2}},\"shapedefaults\":{\"line\":{\"color\":\"#2a3f5f\"}},\"annotationdefaults\":{\"arrowcolor\":\"#2a3f5f\",\"arrowhead\":0,\"arrowwidth\":1},\"geo\":{\"bgcolor\":\"white\",\"landcolor\":\"#E5ECF6\",\"subunitcolor\":\"white\",\"showland\":true,\"showlakes\":true,\"lakecolor\":\"white\"},\"title\":{\"x\":0.05},\"mapbox\":{\"style\":\"light\"}}},\"legend\":{\"tracegroupgap\":0},\"margin\":{\"t\":60}},                        {\"responsive\": true}                    ).then(function(){\n",
       "                            \n",
       "var gd = document.getElementById('8a3a5d12-482b-4a15-9ca2-2f5674e1ab22');\n",
       "var x = new MutationObserver(function (mutations, observer) {{\n",
       "        var display = window.getComputedStyle(gd).display;\n",
       "        if (!display || display === 'none') {{\n",
       "            console.log([gd, 'removed!']);\n",
       "            Plotly.purge(gd);\n",
       "            observer.disconnect();\n",
       "        }}\n",
       "}});\n",
       "\n",
       "// Listen for the removal of the full notebook cells\n",
       "var notebookContainer = gd.closest('#notebook-container');\n",
       "if (notebookContainer) {{\n",
       "    x.observe(notebookContainer, {childList: true});\n",
       "}}\n",
       "\n",
       "// Listen for the clearing of the current output cell\n",
       "var outputEl = gd.closest('.output');\n",
       "if (outputEl) {{\n",
       "    x.observe(outputEl, {childList: true});\n",
       "}}\n",
       "\n",
       "                        })                };                });            </script>        </div>"
      ]
     },
     "metadata": {},
     "output_type": "display_data"
    }
   ],
   "source": [
    "import plotly.express as px\n",
    "\n",
    "class_names = ['Benign', 'G3', 'G4', 'G5'] \n",
    "\n",
    "n_benign = len(os.listdir(train_dir + 'Benign'))\n",
    "n_g3 = len(os.listdir(train_dir + 'G3'))\n",
    "n_g4 = len(os.listdir(train_dir + 'G4'))\n",
    "n_g5 = len(os.listdir(train_dir + 'G5'))\n",
    "n_images = [n_benign, n_g3, n_g4, n_g5]\n",
    "px.pie(names=class_names, values=n_images)"
   ]
  },
  {
   "cell_type": "markdown",
   "id": "2305c6b3",
   "metadata": {
    "papermill": {
     "duration": 0.00466,
     "end_time": "2023-01-08T03:13:22.874061",
     "exception": false,
     "start_time": "2023-01-08T03:13:22.869401",
     "status": "completed"
    },
    "tags": []
   },
   "source": [
    "# **<span style=\"color:#cd486b;\">Model</span>**\n"
   ]
  },
  {
   "cell_type": "code",
   "execution_count": 9,
   "id": "c3ea80c1",
   "metadata": {
    "execution": {
     "iopub.execute_input": "2023-01-08T03:13:22.885928Z",
     "iopub.status.busy": "2023-01-08T03:13:22.885061Z",
     "iopub.status.idle": "2023-01-08T03:13:26.829212Z",
     "shell.execute_reply": "2023-01-08T03:13:26.828173Z"
    },
    "papermill": {
     "duration": 3.953449,
     "end_time": "2023-01-08T03:13:26.832458",
     "exception": false,
     "start_time": "2023-01-08T03:13:22.879009",
     "status": "completed"
    },
    "tags": []
   },
   "outputs": [
    {
     "name": "stderr",
     "output_type": "stream",
     "text": [
      "2023-01-08 03:13:23.035288: I tensorflow/stream_executor/cuda/cuda_gpu_executor.cc:937] successful NUMA node read from SysFS had negative value (-1), but there must be at least one NUMA node, so returning NUMA node zero\n",
      "2023-01-08 03:13:23.036260: I tensorflow/stream_executor/cuda/cuda_gpu_executor.cc:937] successful NUMA node read from SysFS had negative value (-1), but there must be at least one NUMA node, so returning NUMA node zero\n",
      "2023-01-08 03:13:23.040225: I tensorflow/stream_executor/cuda/cuda_gpu_executor.cc:937] successful NUMA node read from SysFS had negative value (-1), but there must be at least one NUMA node, so returning NUMA node zero\n",
      "2023-01-08 03:13:23.041067: I tensorflow/stream_executor/cuda/cuda_gpu_executor.cc:937] successful NUMA node read from SysFS had negative value (-1), but there must be at least one NUMA node, so returning NUMA node zero\n",
      "2023-01-08 03:13:23.041828: I tensorflow/stream_executor/cuda/cuda_gpu_executor.cc:937] successful NUMA node read from SysFS had negative value (-1), but there must be at least one NUMA node, so returning NUMA node zero\n",
      "2023-01-08 03:13:23.042541: I tensorflow/stream_executor/cuda/cuda_gpu_executor.cc:937] successful NUMA node read from SysFS had negative value (-1), but there must be at least one NUMA node, so returning NUMA node zero\n",
      "2023-01-08 03:13:23.044950: I tensorflow/core/platform/cpu_feature_guard.cc:142] This TensorFlow binary is optimized with oneAPI Deep Neural Network Library (oneDNN) to use the following CPU instructions in performance-critical operations:  AVX2 AVX512F FMA\n",
      "To enable them in other operations, rebuild TensorFlow with the appropriate compiler flags.\n",
      "2023-01-08 03:13:23.291214: I tensorflow/stream_executor/cuda/cuda_gpu_executor.cc:937] successful NUMA node read from SysFS had negative value (-1), but there must be at least one NUMA node, so returning NUMA node zero\n",
      "2023-01-08 03:13:23.292106: I tensorflow/stream_executor/cuda/cuda_gpu_executor.cc:937] successful NUMA node read from SysFS had negative value (-1), but there must be at least one NUMA node, so returning NUMA node zero\n",
      "2023-01-08 03:13:23.292844: I tensorflow/stream_executor/cuda/cuda_gpu_executor.cc:937] successful NUMA node read from SysFS had negative value (-1), but there must be at least one NUMA node, so returning NUMA node zero\n",
      "2023-01-08 03:13:23.293539: I tensorflow/stream_executor/cuda/cuda_gpu_executor.cc:937] successful NUMA node read from SysFS had negative value (-1), but there must be at least one NUMA node, so returning NUMA node zero\n",
      "2023-01-08 03:13:23.294287: I tensorflow/stream_executor/cuda/cuda_gpu_executor.cc:937] successful NUMA node read from SysFS had negative value (-1), but there must be at least one NUMA node, so returning NUMA node zero\n",
      "2023-01-08 03:13:23.295071: I tensorflow/stream_executor/cuda/cuda_gpu_executor.cc:937] successful NUMA node read from SysFS had negative value (-1), but there must be at least one NUMA node, so returning NUMA node zero\n",
      "2023-01-08 03:13:26.404010: I tensorflow/stream_executor/cuda/cuda_gpu_executor.cc:937] successful NUMA node read from SysFS had negative value (-1), but there must be at least one NUMA node, so returning NUMA node zero\n",
      "2023-01-08 03:13:26.405008: I tensorflow/stream_executor/cuda/cuda_gpu_executor.cc:937] successful NUMA node read from SysFS had negative value (-1), but there must be at least one NUMA node, so returning NUMA node zero\n",
      "2023-01-08 03:13:26.405803: I tensorflow/stream_executor/cuda/cuda_gpu_executor.cc:937] successful NUMA node read from SysFS had negative value (-1), but there must be at least one NUMA node, so returning NUMA node zero\n",
      "2023-01-08 03:13:26.406536: I tensorflow/stream_executor/cuda/cuda_gpu_executor.cc:937] successful NUMA node read from SysFS had negative value (-1), but there must be at least one NUMA node, so returning NUMA node zero\n",
      "2023-01-08 03:13:26.407343: I tensorflow/stream_executor/cuda/cuda_gpu_executor.cc:937] successful NUMA node read from SysFS had negative value (-1), but there must be at least one NUMA node, so returning NUMA node zero\n",
      "2023-01-08 03:13:26.408087: I tensorflow/core/common_runtime/gpu/gpu_device.cc:1510] Created device /job:localhost/replica:0/task:0/device:GPU:0 with 13761 MB memory:  -> device: 0, name: Tesla T4, pci bus id: 0000:00:04.0, compute capability: 7.5\n",
      "2023-01-08 03:13:26.411267: I tensorflow/stream_executor/cuda/cuda_gpu_executor.cc:937] successful NUMA node read from SysFS had negative value (-1), but there must be at least one NUMA node, so returning NUMA node zero\n",
      "2023-01-08 03:13:26.412047: I tensorflow/core/common_runtime/gpu/gpu_device.cc:1510] Created device /job:localhost/replica:0/task:0/device:GPU:1 with 13761 MB memory:  -> device: 1, name: Tesla T4, pci bus id: 0000:00:05.0, compute capability: 7.5\n"
     ]
    }
   ],
   "source": [
    "model = tf.keras.models.Sequential([\n",
    "    Conv2D(16, (3,3), activation = 'relu', input_shape = (240,240, 3)),\n",
    "    MaxPooling2D(2,2),\n",
    "    Conv2D(32, (3,3), activation = 'relu'),\n",
    "    MaxPooling2D(2,2),\n",
    "    Conv2D(32, (3,3), activation = 'relu'),\n",
    "    MaxPooling2D(2,2),\n",
    "    Conv2D(32, (3,3), activation = 'relu'),\n",
    "    MaxPooling2D(2,2),\n",
    "    Flatten(),\n",
    "    Dense(512, activation = 'relu'),\n",
    "    Dropout(0.2),\n",
    "    Dense(4, activation = 'softmax') # 4 classes\n",
    "])"
   ]
  },
  {
   "cell_type": "code",
   "execution_count": 10,
   "id": "06f551c4",
   "metadata": {
    "execution": {
     "iopub.execute_input": "2023-01-08T03:13:26.845574Z",
     "iopub.status.busy": "2023-01-08T03:13:26.845217Z",
     "iopub.status.idle": "2023-01-08T03:13:26.852099Z",
     "shell.execute_reply": "2023-01-08T03:13:26.850885Z"
    },
    "papermill": {
     "duration": 0.017985,
     "end_time": "2023-01-08T03:13:26.856544",
     "exception": false,
     "start_time": "2023-01-08T03:13:26.838559",
     "status": "completed"
    },
    "tags": []
   },
   "outputs": [
    {
     "name": "stdout",
     "output_type": "stream",
     "text": [
      "Model: \"sequential\"\n",
      "_________________________________________________________________\n",
      "Layer (type)                 Output Shape              Param #   \n",
      "=================================================================\n",
      "conv2d (Conv2D)              (None, 238, 238, 16)      448       \n",
      "_________________________________________________________________\n",
      "max_pooling2d (MaxPooling2D) (None, 119, 119, 16)      0         \n",
      "_________________________________________________________________\n",
      "conv2d_1 (Conv2D)            (None, 117, 117, 32)      4640      \n",
      "_________________________________________________________________\n",
      "max_pooling2d_1 (MaxPooling2 (None, 58, 58, 32)        0         \n",
      "_________________________________________________________________\n",
      "conv2d_2 (Conv2D)            (None, 56, 56, 32)        9248      \n",
      "_________________________________________________________________\n",
      "max_pooling2d_2 (MaxPooling2 (None, 28, 28, 32)        0         \n",
      "_________________________________________________________________\n",
      "conv2d_3 (Conv2D)            (None, 26, 26, 32)        9248      \n",
      "_________________________________________________________________\n",
      "max_pooling2d_3 (MaxPooling2 (None, 13, 13, 32)        0         \n",
      "_________________________________________________________________\n",
      "flatten (Flatten)            (None, 5408)              0         \n",
      "_________________________________________________________________\n",
      "dense (Dense)                (None, 512)               2769408   \n",
      "_________________________________________________________________\n",
      "dropout (Dropout)            (None, 512)               0         \n",
      "_________________________________________________________________\n",
      "dense_1 (Dense)              (None, 4)                 2052      \n",
      "=================================================================\n",
      "Total params: 2,795,044\n",
      "Trainable params: 2,795,044\n",
      "Non-trainable params: 0\n",
      "_________________________________________________________________\n"
     ]
    }
   ],
   "source": [
    "model.summary()"
   ]
  },
  {
   "cell_type": "markdown",
   "id": "b74ef722",
   "metadata": {
    "papermill": {
     "duration": 0.005196,
     "end_time": "2023-01-08T03:13:26.867175",
     "exception": false,
     "start_time": "2023-01-08T03:13:26.861979",
     "status": "completed"
    },
    "tags": []
   },
   "source": [
    "# **<span style=\"color:#cd486b;\">Failed Experiment</span>**\n"
   ]
  },
  {
   "cell_type": "code",
   "execution_count": 11,
   "id": "82f39e8d",
   "metadata": {
    "execution": {
     "iopub.execute_input": "2023-01-08T03:13:26.878720Z",
     "iopub.status.busy": "2023-01-08T03:13:26.878437Z",
     "iopub.status.idle": "2023-01-08T03:16:15.862155Z",
     "shell.execute_reply": "2023-01-08T03:16:15.861172Z"
    },
    "papermill": {
     "duration": 168.991829,
     "end_time": "2023-01-08T03:16:15.864270",
     "exception": false,
     "start_time": "2023-01-08T03:13:26.872441",
     "status": "completed"
    },
    "tags": []
   },
   "outputs": [
    {
     "name": "stderr",
     "output_type": "stream",
     "text": [
      "2023-01-08 03:13:40.734763: I tensorflow/compiler/mlir/mlir_graph_optimization_pass.cc:185] None of the MLIR Optimization Passes are enabled (registered 2)\n"
     ]
    },
    {
     "name": "stdout",
     "output_type": "stream",
     "text": [
      "Epoch 1/20\n"
     ]
    },
    {
     "name": "stderr",
     "output_type": "stream",
     "text": [
      "2023-01-08 03:13:48.052120: I tensorflow/stream_executor/cuda/cuda_dnn.cc:369] Loaded cuDNN version 8005\n"
     ]
    },
    {
     "name": "stdout",
     "output_type": "stream",
     "text": [
      "5/5 [==============================] - 37s 6s/step - loss: 2.0487 - accuracy: 0.1765\n",
      "Epoch 2/20\n",
      "5/5 [==============================] - 7s 1s/step - loss: 1.5087 - accuracy: 0.0784\n",
      "Epoch 3/20\n",
      "5/5 [==============================] - 6s 1s/step - loss: 1.4096 - accuracy: 0.3007\n",
      "Epoch 4/20\n",
      "5/5 [==============================] - 6s 1s/step - loss: 1.3902 - accuracy: 0.3007\n",
      "Epoch 5/20\n",
      "5/5 [==============================] - 7s 1s/step - loss: 1.3877 - accuracy: 0.2941\n",
      "Epoch 6/20\n",
      "5/5 [==============================] - 6s 1s/step - loss: 1.3920 - accuracy: 0.2092\n",
      "Epoch 7/20\n",
      "5/5 [==============================] - 6s 1s/step - loss: 1.3929 - accuracy: 0.2092\n",
      "Epoch 8/20\n",
      "5/5 [==============================] - 6s 1s/step - loss: 1.3868 - accuracy: 0.2092\n",
      "Epoch 9/20\n",
      "5/5 [==============================] - 5s 1s/step - loss: 1.3862 - accuracy: 0.2157\n",
      "Epoch 10/20\n",
      "5/5 [==============================] - 7s 1s/step - loss: 1.3822 - accuracy: 0.2288\n",
      "Epoch 11/20\n",
      "5/5 [==============================] - 5s 949ms/step - loss: 1.3835 - accuracy: 0.2614\n",
      "Epoch 12/20\n",
      "5/5 [==============================] - 6s 1s/step - loss: 1.3784 - accuracy: 0.3268\n",
      "Epoch 13/20\n",
      "5/5 [==============================] - 6s 928ms/step - loss: 1.4524 - accuracy: 0.3007\n",
      "Epoch 14/20\n",
      "5/5 [==============================] - 7s 1s/step - loss: 1.3750 - accuracy: 0.3007\n",
      "Epoch 15/20\n",
      "5/5 [==============================] - 6s 1s/step - loss: 1.3793 - accuracy: 0.2745\n",
      "Epoch 16/20\n",
      "5/5 [==============================] - 7s 1s/step - loss: 1.3699 - accuracy: 0.2941\n",
      "Epoch 17/20\n",
      "5/5 [==============================] - 5s 1s/step - loss: 1.3700 - accuracy: 0.2876\n",
      "Epoch 18/20\n",
      "5/5 [==============================] - 6s 1s/step - loss: 1.3759 - accuracy: 0.1569\n",
      "Epoch 19/20\n",
      "5/5 [==============================] - 5s 1s/step - loss: 1.3573 - accuracy: 0.2876\n",
      "Epoch 20/20\n",
      "5/5 [==============================] - 7s 1s/step - loss: 1.3658 - accuracy: 0.3203\n"
     ]
    }
   ],
   "source": [
    "model.compile(loss = 'categorical_crossentropy', optimizer = tf.keras.optimizers.Adam(), metrics = ['accuracy'])\n",
    "history = model.fit(train_data, epochs = 20, steps_per_epoch = len(train_data), \n",
    "                    validation_data = test_data, validation_steps = int(0.25 * len(test_data)))"
   ]
  },
  {
   "cell_type": "markdown",
   "id": "ab7dd4ac",
   "metadata": {
    "papermill": {
     "duration": 0.011788,
     "end_time": "2023-01-08T03:16:15.888534",
     "exception": false,
     "start_time": "2023-01-08T03:16:15.876746",
     "status": "completed"
    },
    "tags": []
   },
   "source": [
    "# **<span style=\"color:#cd486b;\">Try Transfer Learning</span>**\n"
   ]
  },
  {
   "cell_type": "code",
   "execution_count": 12,
   "id": "ffdc605f",
   "metadata": {
    "execution": {
     "iopub.execute_input": "2023-01-08T03:16:15.915205Z",
     "iopub.status.busy": "2023-01-08T03:16:15.914121Z",
     "iopub.status.idle": "2023-01-08T03:18:50.190675Z",
     "shell.execute_reply": "2023-01-08T03:18:50.189672Z"
    },
    "papermill": {
     "duration": 154.2929,
     "end_time": "2023-01-08T03:18:50.193505",
     "exception": false,
     "start_time": "2023-01-08T03:16:15.900605",
     "status": "completed"
    },
    "tags": []
   },
   "outputs": [
    {
     "name": "stdout",
     "output_type": "stream",
     "text": [
      "Downloading data from https://storage.googleapis.com/tensorflow/keras-applications/resnet/resnet50v2_weights_tf_dim_ordering_tf_kernels_notop.h5\n",
      "94674944/94668760 [==============================] - 0s 0us/step\n",
      "94683136/94668760 [==============================] - 0s 0us/step\n",
      "Epoch 1/20\n",
      "5/5 [==============================] - 15s 2s/step - loss: 1.3944 - accuracy: 0.2876\n",
      "Epoch 2/20\n",
      "5/5 [==============================] - 6s 1s/step - loss: 1.3805 - accuracy: 0.3007\n",
      "Epoch 3/20\n",
      "5/5 [==============================] - 6s 1s/step - loss: 1.3769 - accuracy: 0.3007\n",
      "Epoch 4/20\n",
      "5/5 [==============================] - 7s 1s/step - loss: 1.3714 - accuracy: 0.3007\n",
      "Epoch 5/20\n",
      "5/5 [==============================] - 7s 2s/step - loss: 1.3663 - accuracy: 0.3007\n",
      "Epoch 6/20\n",
      "5/5 [==============================] - 7s 1s/step - loss: 1.3591 - accuracy: 0.3007\n",
      "Epoch 7/20\n",
      "5/5 [==============================] - 7s 989ms/step - loss: 1.3552 - accuracy: 0.3007\n",
      "Epoch 8/20\n",
      "5/5 [==============================] - 7s 1s/step - loss: 1.3478 - accuracy: 0.3137\n",
      "Epoch 9/20\n",
      "5/5 [==============================] - 8s 1s/step - loss: 1.3435 - accuracy: 0.3922\n",
      "Epoch 10/20\n",
      "5/5 [==============================] - 7s 1s/step - loss: 1.3410 - accuracy: 0.4379\n",
      "Epoch 11/20\n",
      "5/5 [==============================] - 7s 2s/step - loss: 1.3318 - accuracy: 0.5229\n",
      "Epoch 12/20\n",
      "5/5 [==============================] - 7s 1s/step - loss: 1.3312 - accuracy: 0.5882\n",
      "Epoch 13/20\n",
      "5/5 [==============================] - 7s 1s/step - loss: 1.3306 - accuracy: 0.5948\n",
      "Epoch 14/20\n",
      "5/5 [==============================] - 7s 1s/step - loss: 1.3175 - accuracy: 0.6732\n",
      "Epoch 15/20\n",
      "5/5 [==============================] - 6s 1s/step - loss: 1.3135 - accuracy: 0.6667\n",
      "Epoch 16/20\n",
      "5/5 [==============================] - 7s 1s/step - loss: 1.3114 - accuracy: 0.6013\n",
      "Epoch 17/20\n",
      "5/5 [==============================] - 8s 2s/step - loss: 1.3030 - accuracy: 0.6536\n",
      "Epoch 18/20\n",
      "5/5 [==============================] - 7s 1s/step - loss: 1.3058 - accuracy: 0.6078\n",
      "Epoch 19/20\n",
      "5/5 [==============================] - 7s 1s/step - loss: 1.2971 - accuracy: 0.6405\n",
      "Epoch 20/20\n",
      "5/5 [==============================] - 6s 1s/step - loss: 1.2901 - accuracy: 0.6471\n"
     ]
    }
   ],
   "source": [
    "#transfer learning\n",
    "\n",
    "base_model = tf.keras.applications.ResNet50V2(include_top = False)\n",
    "base_model.trainable = False\n",
    "\n",
    "inputs = tf.keras.layers.Input(shape = (240, 240, 3), name = 'InputLayer')\n",
    "x = base_model(inputs)\n",
    "x = tf.keras.layers.GlobalAveragePooling2D(name = 'global_average_pooling_layer')(x)\n",
    "x = tf.keras.layers.Dense(512, activation = 'softmax', name = 'Dense_layer')(x)\n",
    "x = Dropout(0.2)(x)\n",
    "outputs = tf.keras.layers.Dense(4, activation = 'softmax', name = 'output_layer')(x)\n",
    "\n",
    "model = tf.keras.Model(inputs, outputs)\n",
    "model.compile(loss = 'categorical_crossentropy', optimizer = tf.keras.optimizers.Adam(learning_rate = 0.001), metrics = ['accuracy'])\n",
    "history = model.fit(train_data, epochs = 20, steps_per_epoch = len(train_data), \n",
    "                    validation_data = test_data, validation_steps = int(0.25 * len(test_data)))"
   ]
  },
  {
   "cell_type": "markdown",
   "id": "c6f9d676",
   "metadata": {
    "papermill": {
     "duration": 0.028861,
     "end_time": "2023-01-08T03:18:50.253015",
     "exception": false,
     "start_time": "2023-01-08T03:18:50.224154",
     "status": "completed"
    },
    "tags": []
   },
   "source": [
    "# **<span style=\"color:#cd486b;\">Plots</span>**\n"
   ]
  },
  {
   "cell_type": "code",
   "execution_count": 13,
   "id": "d2eb16d0",
   "metadata": {
    "execution": {
     "iopub.execute_input": "2023-01-08T03:18:50.312851Z",
     "iopub.status.busy": "2023-01-08T03:18:50.312405Z",
     "iopub.status.idle": "2023-01-08T03:18:50.335130Z",
     "shell.execute_reply": "2023-01-08T03:18:50.334147Z"
    },
    "papermill": {
     "duration": 0.056362,
     "end_time": "2023-01-08T03:18:50.338133",
     "exception": false,
     "start_time": "2023-01-08T03:18:50.281771",
     "status": "completed"
    },
    "tags": []
   },
   "outputs": [
    {
     "data": {
      "text/html": [
       "<div>\n",
       "<style scoped>\n",
       "    .dataframe tbody tr th:only-of-type {\n",
       "        vertical-align: middle;\n",
       "    }\n",
       "\n",
       "    .dataframe tbody tr th {\n",
       "        vertical-align: top;\n",
       "    }\n",
       "\n",
       "    .dataframe thead th {\n",
       "        text-align: right;\n",
       "    }\n",
       "</style>\n",
       "<table border=\"1\" class=\"dataframe\">\n",
       "  <thead>\n",
       "    <tr style=\"text-align: right;\">\n",
       "      <th></th>\n",
       "      <th>loss</th>\n",
       "      <th>accuracy</th>\n",
       "    </tr>\n",
       "  </thead>\n",
       "  <tbody>\n",
       "    <tr>\n",
       "      <th>15</th>\n",
       "      <td>1.311395</td>\n",
       "      <td>0.601307</td>\n",
       "    </tr>\n",
       "    <tr>\n",
       "      <th>16</th>\n",
       "      <td>1.302997</td>\n",
       "      <td>0.653595</td>\n",
       "    </tr>\n",
       "    <tr>\n",
       "      <th>17</th>\n",
       "      <td>1.305810</td>\n",
       "      <td>0.607843</td>\n",
       "    </tr>\n",
       "    <tr>\n",
       "      <th>18</th>\n",
       "      <td>1.297071</td>\n",
       "      <td>0.640523</td>\n",
       "    </tr>\n",
       "    <tr>\n",
       "      <th>19</th>\n",
       "      <td>1.290105</td>\n",
       "      <td>0.647059</td>\n",
       "    </tr>\n",
       "  </tbody>\n",
       "</table>\n",
       "</div>"
      ],
      "text/plain": [
       "        loss  accuracy\n",
       "15  1.311395  0.601307\n",
       "16  1.302997  0.653595\n",
       "17  1.305810  0.607843\n",
       "18  1.297071  0.640523\n",
       "19  1.290105  0.647059"
      ]
     },
     "execution_count": 13,
     "metadata": {},
     "output_type": "execute_result"
    }
   ],
   "source": [
    "results = pd.DataFrame(history.history)\n",
    "results.tail()"
   ]
  },
  {
   "cell_type": "code",
   "execution_count": 14,
   "id": "8fbf6d70",
   "metadata": {
    "execution": {
     "iopub.execute_input": "2023-01-08T03:18:50.403816Z",
     "iopub.status.busy": "2023-01-08T03:18:50.403344Z",
     "iopub.status.idle": "2023-01-08T03:18:55.090186Z",
     "shell.execute_reply": "2023-01-08T03:18:55.089200Z"
    },
    "papermill": {
     "duration": 4.724087,
     "end_time": "2023-01-08T03:18:55.092388",
     "exception": false,
     "start_time": "2023-01-08T03:18:50.368301",
     "status": "completed"
    },
    "tags": []
   },
   "outputs": [
    {
     "name": "stdout",
     "output_type": "stream",
     "text": [
      "2/2 [==============================] - 3s 1s/step - loss: 1.2953 - accuracy: 0.7250\n"
     ]
    },
    {
     "data": {
      "text/plain": [
       "[1.2952691316604614, 0.7250000238418579]"
      ]
     },
     "execution_count": 14,
     "metadata": {},
     "output_type": "execute_result"
    }
   ],
   "source": [
    "model.evaluate(test_data)"
   ]
  },
  {
   "cell_type": "markdown",
   "id": "0531b816",
   "metadata": {
    "papermill": {
     "duration": 0.02259,
     "end_time": "2023-01-08T03:18:55.136368",
     "exception": false,
     "start_time": "2023-01-08T03:18:55.113778",
     "status": "completed"
    },
    "tags": []
   },
   "source": [
    "# **<span style=\"color:#850E35;\">Conclusion</span>**\n",
    "\n",
    "Clearly, we see there is some overfitting which we can overcome. Rest the ResNet50 did some good work, next we can try inception or DenseNet models as well.\n",
    "\n",
    "-----------------------------------------------------------------------\n",
    "\n",
    "**<span style=\"color:#A77979;\">This is my very first Computer Vision Notebook. This dataset belongs to UKM.</span>**\n",
    "\n",
    "**<span style=\"color:#A77979;\">Please share your feedback and suggestions and help me improve 😇</span>**"
   ]
  }
 ],
 "metadata": {
  "kernelspec": {
   "display_name": "Python 3",
   "language": "python",
   "name": "python3"
  },
  "language_info": {
   "codemirror_mode": {
    "name": "ipython",
    "version": 3
   },
   "file_extension": ".py",
   "mimetype": "text/x-python",
   "name": "python",
   "nbconvert_exporter": "python",
   "pygments_lexer": "ipython3",
   "version": "3.7.12"
  },
  "papermill": {
   "default_parameters": {},
   "duration": 354.57529,
   "end_time": "2023-01-08T03:18:58.532562",
   "environment_variables": {},
   "exception": null,
   "input_path": "__notebook__.ipynb",
   "output_path": "__notebook__.ipynb",
   "parameters": {},
   "start_time": "2023-01-08T03:13:03.957272",
   "version": "2.3.4"
  }
 },
 "nbformat": 4,
 "nbformat_minor": 5
}
