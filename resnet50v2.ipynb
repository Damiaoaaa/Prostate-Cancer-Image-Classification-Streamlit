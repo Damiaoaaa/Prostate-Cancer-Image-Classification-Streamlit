{
 "cells": [
  {
   "cell_type": "markdown",
   "id": "5978a561",
   "metadata": {
    "papermill": {
     "duration": 0.008492,
     "end_time": "2023-01-08T12:16:44.978085",
     "exception": false,
     "start_time": "2023-01-08T12:16:44.969593",
     "status": "completed"
    },
    "tags": []
   },
   "source": [
    "<div style=\"width:100%;text-align: center;\"> <img align=middle src=\"https://www.mdpi.com/cancers/cancers-11-01937/article_deploy/html/images/cancers-11-01937-g001.png\" alt=\"Heat beating\" style=\"height:366px;margin-top:3rem;\"> </div>"
   ]
  },
  {
   "cell_type": "markdown",
   "id": "2dd4d160",
   "metadata": {
    "papermill": {
     "duration": 0.007047,
     "end_time": "2023-01-08T12:16:44.992514",
     "exception": false,
     "start_time": "2023-01-08T12:16:44.985467",
     "status": "completed"
    },
    "tags": []
   },
   "source": [
    "# <h1 style='background:#FAC213; border:0; color:white'><center>Prostate Cancer Classification</center></h1>"
   ]
  },
  {
   "cell_type": "markdown",
   "id": "34f61094",
   "metadata": {
    "papermill": {
     "duration": 0.00734,
     "end_time": "2023-01-08T12:16:45.007095",
     "exception": false,
     "start_time": "2023-01-08T12:16:44.999755",
     "status": "completed"
    },
    "tags": []
   },
   "source": [
    "# **<span style=\"color:#cd486b;\">About the Dataset</span>**\n",
    "\n",
    "The dataset contains images of Prostate cancel from Benign and Grade 3-5 to make Gleason Score classification.\n",
    "\n",
    "# **<span style=\"color:#cd486b;\">About the files</span>**\n",
    "\n",
    "The dataset contains 2 folders: one with the test data and the other one with train data.\n",
    "The test-train-split ratio is 0.2, with the test dataset containing 40 images and the train dataset containing 153.\n",
    "The images have a resolution of 240x240 pixels in RGB color model.\n",
    "Both the folders contain 4 classes:\n",
    "\n",
    "> Benign\n",
    "\n",
    "> Grade 3\n",
    "\n",
    "> Grade 4\n",
    "\n",
    "> Grade 5"
   ]
  },
  {
   "cell_type": "code",
   "execution_count": 1,
   "id": "83047e2e",
   "metadata": {
    "execution": {
     "iopub.execute_input": "2023-01-08T12:16:45.026835Z",
     "iopub.status.busy": "2023-01-08T12:16:45.025970Z",
     "iopub.status.idle": "2023-01-08T12:16:45.036589Z",
     "shell.execute_reply": "2023-01-08T12:16:45.035778Z"
    },
    "papermill": {
     "duration": 0.023932,
     "end_time": "2023-01-08T12:16:45.038581",
     "exception": false,
     "start_time": "2023-01-08T12:16:45.014649",
     "status": "completed"
    },
    "tags": []
   },
   "outputs": [],
   "source": [
    "#Environment check\n",
    "import os\n",
    "import warnings\n",
    "warnings.filterwarnings(\"ignore\")"
   ]
  },
  {
   "cell_type": "code",
   "execution_count": 2,
   "id": "5b137a2b",
   "metadata": {
    "execution": {
     "iopub.execute_input": "2023-01-08T12:16:45.050465Z",
     "iopub.status.busy": "2023-01-08T12:16:45.049695Z",
     "iopub.status.idle": "2023-01-08T12:16:51.011452Z",
     "shell.execute_reply": "2023-01-08T12:16:51.010495Z"
    },
    "papermill": {
     "duration": 5.970108,
     "end_time": "2023-01-08T12:16:51.013938",
     "exception": false,
     "start_time": "2023-01-08T12:16:45.043830",
     "status": "completed"
    },
    "tags": []
   },
   "outputs": [],
   "source": [
    "#Imports\n",
    "import tensorflow as tf\n",
    "from tensorflow import keras\n",
    "from tensorflow.keras.preprocessing import image\n",
    "from tensorflow.keras.preprocessing.image import ImageDataGenerator\n",
    "from tensorflow.keras.models import Sequential\n",
    "from tensorflow.keras.layers import Conv2D, Flatten, MaxPooling2D, Dense, Dropout, GlobalAveragePooling2D\n",
    "from tensorflow.keras import optimizers, losses\n",
    "import seaborn as sns\n",
    "import matplotlib.pyplot as plt\n",
    "import pandas as pd"
   ]
  },
  {
   "cell_type": "markdown",
   "id": "4a09ea70",
   "metadata": {
    "papermill": {
     "duration": 0.004939,
     "end_time": "2023-01-08T12:16:51.024151",
     "exception": false,
     "start_time": "2023-01-08T12:16:51.019212",
     "status": "completed"
    },
    "tags": []
   },
   "source": [
    "# **<span style=\"color:#cd486b;\">Get Data and apply some augmentation</span>**\n"
   ]
  },
  {
   "cell_type": "code",
   "execution_count": 3,
   "id": "30366d40",
   "metadata": {
    "execution": {
     "iopub.execute_input": "2023-01-08T12:16:51.035878Z",
     "iopub.status.busy": "2023-01-08T12:16:51.034974Z",
     "iopub.status.idle": "2023-01-08T12:16:51.039859Z",
     "shell.execute_reply": "2023-01-08T12:16:51.038953Z"
    },
    "papermill": {
     "duration": 0.012732,
     "end_time": "2023-01-08T12:16:51.041821",
     "exception": false,
     "start_time": "2023-01-08T12:16:51.029089",
     "status": "completed"
    },
    "tags": []
   },
   "outputs": [],
   "source": [
    "train_dir = \"../input/prostate-cancer-classification-ukm/Prostate_Split/Train/\"\n",
    "test_dir = \"../input/prostate-cancer-classification-ukm/Prostate_Split/Test/\""
   ]
  },
  {
   "cell_type": "code",
   "execution_count": 4,
   "id": "12c59b95",
   "metadata": {
    "execution": {
     "iopub.execute_input": "2023-01-08T12:16:51.054464Z",
     "iopub.status.busy": "2023-01-08T12:16:51.054173Z",
     "iopub.status.idle": "2023-01-08T12:16:51.058862Z",
     "shell.execute_reply": "2023-01-08T12:16:51.057914Z"
    },
    "papermill": {
     "duration": 0.01247,
     "end_time": "2023-01-08T12:16:51.060765",
     "exception": false,
     "start_time": "2023-01-08T12:16:51.048295",
     "status": "completed"
    },
    "tags": []
   },
   "outputs": [],
   "source": [
    "train_datagen = ImageDataGenerator(rescale = 1./ 255, rotation_range = 40, width_shift_range = 0.2, height_shift_range = 0.2,\n",
    "                                  shear_range = 0.2, zoom_range = 0.2, horizontal_flip = True, fill_mode = 'nearest')"
   ]
  },
  {
   "cell_type": "code",
   "execution_count": 5,
   "id": "11f19d43",
   "metadata": {
    "execution": {
     "iopub.execute_input": "2023-01-08T12:16:51.072483Z",
     "iopub.status.busy": "2023-01-08T12:16:51.071663Z",
     "iopub.status.idle": "2023-01-08T12:16:51.076461Z",
     "shell.execute_reply": "2023-01-08T12:16:51.075649Z"
    },
    "papermill": {
     "duration": 0.012548,
     "end_time": "2023-01-08T12:16:51.078316",
     "exception": false,
     "start_time": "2023-01-08T12:16:51.065768",
     "status": "completed"
    },
    "tags": []
   },
   "outputs": [],
   "source": [
    "test_datagen = ImageDataGenerator(rescale = 1./ 255)"
   ]
  },
  {
   "cell_type": "code",
   "execution_count": 6,
   "id": "731447e7",
   "metadata": {
    "execution": {
     "iopub.execute_input": "2023-01-08T12:16:51.089770Z",
     "iopub.status.busy": "2023-01-08T12:16:51.088989Z",
     "iopub.status.idle": "2023-01-08T12:16:51.305271Z",
     "shell.execute_reply": "2023-01-08T12:16:51.304180Z"
    },
    "papermill": {
     "duration": 0.22481,
     "end_time": "2023-01-08T12:16:51.308090",
     "exception": false,
     "start_time": "2023-01-08T12:16:51.083280",
     "status": "completed"
    },
    "tags": []
   },
   "outputs": [
    {
     "name": "stdout",
     "output_type": "stream",
     "text": [
      "Found 153 images belonging to 4 classes.\n",
      "Found 40 images belonging to 4 classes.\n"
     ]
    }
   ],
   "source": [
    "train_data = train_datagen.flow_from_directory(directory = train_dir, batch_size = 32, target_size = (240,240), class_mode = \"categorical\", shuffle = False)\n",
    "test_data = test_datagen.flow_from_directory(directory = test_dir, batch_size = 32, target_size = (240,240), class_mode = \"categorical\")"
   ]
  },
  {
   "cell_type": "code",
   "execution_count": 7,
   "id": "0eda5e2c",
   "metadata": {
    "execution": {
     "iopub.execute_input": "2023-01-08T12:16:51.322347Z",
     "iopub.status.busy": "2023-01-08T12:16:51.321464Z",
     "iopub.status.idle": "2023-01-08T12:16:51.330491Z",
     "shell.execute_reply": "2023-01-08T12:16:51.328779Z"
    },
    "papermill": {
     "duration": 0.018658,
     "end_time": "2023-01-08T12:16:51.333405",
     "exception": false,
     "start_time": "2023-01-08T12:16:51.314747",
     "status": "completed"
    },
    "tags": []
   },
   "outputs": [
    {
     "name": "stdout",
     "output_type": "stream",
     "text": [
      "10\n",
      "10\n",
      "10\n",
      "10\n"
     ]
    }
   ],
   "source": [
    "print(len(os.listdir(test_dir + 'Benign')))\n",
    "print(len(os.listdir(test_dir + 'G3')))\n",
    "print(len(os.listdir(test_dir + 'G4')))\n",
    "print(len(os.listdir(test_dir + 'G5')))"
   ]
  },
  {
   "cell_type": "code",
   "execution_count": 8,
   "id": "9547d01e",
   "metadata": {
    "execution": {
     "iopub.execute_input": "2023-01-08T12:16:51.346322Z",
     "iopub.status.busy": "2023-01-08T12:16:51.345492Z",
     "iopub.status.idle": "2023-01-08T12:16:53.992145Z",
     "shell.execute_reply": "2023-01-08T12:16:53.991242Z"
    },
    "papermill": {
     "duration": 2.655151,
     "end_time": "2023-01-08T12:16:53.994363",
     "exception": false,
     "start_time": "2023-01-08T12:16:51.339212",
     "status": "completed"
    },
    "tags": []
   },
   "outputs": [
    {
     "data": {
      "text/html": [
       "        <script type=\"text/javascript\">\n",
       "        window.PlotlyConfig = {MathJaxConfig: 'local'};\n",
       "        if (window.MathJax && window.MathJax.Hub && window.MathJax.Hub.Config) {window.MathJax.Hub.Config({SVG: {font: \"STIX-Web\"}});}\n",
       "        if (typeof require !== 'undefined') {\n",
       "        require.undef(\"plotly\");\n",
       "        requirejs.config({\n",
       "            paths: {\n",
       "                'plotly': ['https://cdn.plot.ly/plotly-2.16.1.min']\n",
       "            }\n",
       "        });\n",
       "        require(['plotly'], function(Plotly) {\n",
       "            window._Plotly = Plotly;\n",
       "        });\n",
       "        }\n",
       "        </script>\n",
       "        "
      ]
     },
     "metadata": {},
     "output_type": "display_data"
    },
    {
     "data": {
      "text/html": [
       "<div>                            <div id=\"a47acc52-868c-4916-9f1b-113b8fc6f93e\" class=\"plotly-graph-div\" style=\"height:525px; width:100%;\"></div>            <script type=\"text/javascript\">                require([\"plotly\"], function(Plotly) {                    window.PLOTLYENV=window.PLOTLYENV || {};                                    if (document.getElementById(\"a47acc52-868c-4916-9f1b-113b8fc6f93e\")) {                    Plotly.newPlot(                        \"a47acc52-868c-4916-9f1b-113b8fc6f93e\",                        [{\"domain\":{\"x\":[0.0,1.0],\"y\":[0.0,1.0]},\"hovertemplate\":\"label=%{label}<br>value=%{value}<extra></extra>\",\"labels\":[\"Benign\",\"G3\",\"G4\",\"G5\"],\"legendgroup\":\"\",\"name\":\"\",\"showlegend\":true,\"values\":[42,31,46,34],\"type\":\"pie\"}],                        {\"template\":{\"data\":{\"histogram2dcontour\":[{\"type\":\"histogram2dcontour\",\"colorbar\":{\"outlinewidth\":0,\"ticks\":\"\"},\"colorscale\":[[0.0,\"#0d0887\"],[0.1111111111111111,\"#46039f\"],[0.2222222222222222,\"#7201a8\"],[0.3333333333333333,\"#9c179e\"],[0.4444444444444444,\"#bd3786\"],[0.5555555555555556,\"#d8576b\"],[0.6666666666666666,\"#ed7953\"],[0.7777777777777778,\"#fb9f3a\"],[0.8888888888888888,\"#fdca26\"],[1.0,\"#f0f921\"]]}],\"choropleth\":[{\"type\":\"choropleth\",\"colorbar\":{\"outlinewidth\":0,\"ticks\":\"\"}}],\"histogram2d\":[{\"type\":\"histogram2d\",\"colorbar\":{\"outlinewidth\":0,\"ticks\":\"\"},\"colorscale\":[[0.0,\"#0d0887\"],[0.1111111111111111,\"#46039f\"],[0.2222222222222222,\"#7201a8\"],[0.3333333333333333,\"#9c179e\"],[0.4444444444444444,\"#bd3786\"],[0.5555555555555556,\"#d8576b\"],[0.6666666666666666,\"#ed7953\"],[0.7777777777777778,\"#fb9f3a\"],[0.8888888888888888,\"#fdca26\"],[1.0,\"#f0f921\"]]}],\"heatmap\":[{\"type\":\"heatmap\",\"colorbar\":{\"outlinewidth\":0,\"ticks\":\"\"},\"colorscale\":[[0.0,\"#0d0887\"],[0.1111111111111111,\"#46039f\"],[0.2222222222222222,\"#7201a8\"],[0.3333333333333333,\"#9c179e\"],[0.4444444444444444,\"#bd3786\"],[0.5555555555555556,\"#d8576b\"],[0.6666666666666666,\"#ed7953\"],[0.7777777777777778,\"#fb9f3a\"],[0.8888888888888888,\"#fdca26\"],[1.0,\"#f0f921\"]]}],\"heatmapgl\":[{\"type\":\"heatmapgl\",\"colorbar\":{\"outlinewidth\":0,\"ticks\":\"\"},\"colorscale\":[[0.0,\"#0d0887\"],[0.1111111111111111,\"#46039f\"],[0.2222222222222222,\"#7201a8\"],[0.3333333333333333,\"#9c179e\"],[0.4444444444444444,\"#bd3786\"],[0.5555555555555556,\"#d8576b\"],[0.6666666666666666,\"#ed7953\"],[0.7777777777777778,\"#fb9f3a\"],[0.8888888888888888,\"#fdca26\"],[1.0,\"#f0f921\"]]}],\"contourcarpet\":[{\"type\":\"contourcarpet\",\"colorbar\":{\"outlinewidth\":0,\"ticks\":\"\"}}],\"contour\":[{\"type\":\"contour\",\"colorbar\":{\"outlinewidth\":0,\"ticks\":\"\"},\"colorscale\":[[0.0,\"#0d0887\"],[0.1111111111111111,\"#46039f\"],[0.2222222222222222,\"#7201a8\"],[0.3333333333333333,\"#9c179e\"],[0.4444444444444444,\"#bd3786\"],[0.5555555555555556,\"#d8576b\"],[0.6666666666666666,\"#ed7953\"],[0.7777777777777778,\"#fb9f3a\"],[0.8888888888888888,\"#fdca26\"],[1.0,\"#f0f921\"]]}],\"surface\":[{\"type\":\"surface\",\"colorbar\":{\"outlinewidth\":0,\"ticks\":\"\"},\"colorscale\":[[0.0,\"#0d0887\"],[0.1111111111111111,\"#46039f\"],[0.2222222222222222,\"#7201a8\"],[0.3333333333333333,\"#9c179e\"],[0.4444444444444444,\"#bd3786\"],[0.5555555555555556,\"#d8576b\"],[0.6666666666666666,\"#ed7953\"],[0.7777777777777778,\"#fb9f3a\"],[0.8888888888888888,\"#fdca26\"],[1.0,\"#f0f921\"]]}],\"mesh3d\":[{\"type\":\"mesh3d\",\"colorbar\":{\"outlinewidth\":0,\"ticks\":\"\"}}],\"scatter\":[{\"fillpattern\":{\"fillmode\":\"overlay\",\"size\":10,\"solidity\":0.2},\"type\":\"scatter\"}],\"parcoords\":[{\"type\":\"parcoords\",\"line\":{\"colorbar\":{\"outlinewidth\":0,\"ticks\":\"\"}}}],\"scatterpolargl\":[{\"type\":\"scatterpolargl\",\"marker\":{\"colorbar\":{\"outlinewidth\":0,\"ticks\":\"\"}}}],\"bar\":[{\"error_x\":{\"color\":\"#2a3f5f\"},\"error_y\":{\"color\":\"#2a3f5f\"},\"marker\":{\"line\":{\"color\":\"#E5ECF6\",\"width\":0.5},\"pattern\":{\"fillmode\":\"overlay\",\"size\":10,\"solidity\":0.2}},\"type\":\"bar\"}],\"scattergeo\":[{\"type\":\"scattergeo\",\"marker\":{\"colorbar\":{\"outlinewidth\":0,\"ticks\":\"\"}}}],\"scatterpolar\":[{\"type\":\"scatterpolar\",\"marker\":{\"colorbar\":{\"outlinewidth\":0,\"ticks\":\"\"}}}],\"histogram\":[{\"marker\":{\"pattern\":{\"fillmode\":\"overlay\",\"size\":10,\"solidity\":0.2}},\"type\":\"histogram\"}],\"scattergl\":[{\"type\":\"scattergl\",\"marker\":{\"colorbar\":{\"outlinewidth\":0,\"ticks\":\"\"}}}],\"scatter3d\":[{\"type\":\"scatter3d\",\"line\":{\"colorbar\":{\"outlinewidth\":0,\"ticks\":\"\"}},\"marker\":{\"colorbar\":{\"outlinewidth\":0,\"ticks\":\"\"}}}],\"scattermapbox\":[{\"type\":\"scattermapbox\",\"marker\":{\"colorbar\":{\"outlinewidth\":0,\"ticks\":\"\"}}}],\"scatterternary\":[{\"type\":\"scatterternary\",\"marker\":{\"colorbar\":{\"outlinewidth\":0,\"ticks\":\"\"}}}],\"scattercarpet\":[{\"type\":\"scattercarpet\",\"marker\":{\"colorbar\":{\"outlinewidth\":0,\"ticks\":\"\"}}}],\"carpet\":[{\"aaxis\":{\"endlinecolor\":\"#2a3f5f\",\"gridcolor\":\"white\",\"linecolor\":\"white\",\"minorgridcolor\":\"white\",\"startlinecolor\":\"#2a3f5f\"},\"baxis\":{\"endlinecolor\":\"#2a3f5f\",\"gridcolor\":\"white\",\"linecolor\":\"white\",\"minorgridcolor\":\"white\",\"startlinecolor\":\"#2a3f5f\"},\"type\":\"carpet\"}],\"table\":[{\"cells\":{\"fill\":{\"color\":\"#EBF0F8\"},\"line\":{\"color\":\"white\"}},\"header\":{\"fill\":{\"color\":\"#C8D4E3\"},\"line\":{\"color\":\"white\"}},\"type\":\"table\"}],\"barpolar\":[{\"marker\":{\"line\":{\"color\":\"#E5ECF6\",\"width\":0.5},\"pattern\":{\"fillmode\":\"overlay\",\"size\":10,\"solidity\":0.2}},\"type\":\"barpolar\"}],\"pie\":[{\"automargin\":true,\"type\":\"pie\"}]},\"layout\":{\"autotypenumbers\":\"strict\",\"colorway\":[\"#636efa\",\"#EF553B\",\"#00cc96\",\"#ab63fa\",\"#FFA15A\",\"#19d3f3\",\"#FF6692\",\"#B6E880\",\"#FF97FF\",\"#FECB52\"],\"font\":{\"color\":\"#2a3f5f\"},\"hovermode\":\"closest\",\"hoverlabel\":{\"align\":\"left\"},\"paper_bgcolor\":\"white\",\"plot_bgcolor\":\"#E5ECF6\",\"polar\":{\"bgcolor\":\"#E5ECF6\",\"angularaxis\":{\"gridcolor\":\"white\",\"linecolor\":\"white\",\"ticks\":\"\"},\"radialaxis\":{\"gridcolor\":\"white\",\"linecolor\":\"white\",\"ticks\":\"\"}},\"ternary\":{\"bgcolor\":\"#E5ECF6\",\"aaxis\":{\"gridcolor\":\"white\",\"linecolor\":\"white\",\"ticks\":\"\"},\"baxis\":{\"gridcolor\":\"white\",\"linecolor\":\"white\",\"ticks\":\"\"},\"caxis\":{\"gridcolor\":\"white\",\"linecolor\":\"white\",\"ticks\":\"\"}},\"coloraxis\":{\"colorbar\":{\"outlinewidth\":0,\"ticks\":\"\"}},\"colorscale\":{\"sequential\":[[0.0,\"#0d0887\"],[0.1111111111111111,\"#46039f\"],[0.2222222222222222,\"#7201a8\"],[0.3333333333333333,\"#9c179e\"],[0.4444444444444444,\"#bd3786\"],[0.5555555555555556,\"#d8576b\"],[0.6666666666666666,\"#ed7953\"],[0.7777777777777778,\"#fb9f3a\"],[0.8888888888888888,\"#fdca26\"],[1.0,\"#f0f921\"]],\"sequentialminus\":[[0.0,\"#0d0887\"],[0.1111111111111111,\"#46039f\"],[0.2222222222222222,\"#7201a8\"],[0.3333333333333333,\"#9c179e\"],[0.4444444444444444,\"#bd3786\"],[0.5555555555555556,\"#d8576b\"],[0.6666666666666666,\"#ed7953\"],[0.7777777777777778,\"#fb9f3a\"],[0.8888888888888888,\"#fdca26\"],[1.0,\"#f0f921\"]],\"diverging\":[[0,\"#8e0152\"],[0.1,\"#c51b7d\"],[0.2,\"#de77ae\"],[0.3,\"#f1b6da\"],[0.4,\"#fde0ef\"],[0.5,\"#f7f7f7\"],[0.6,\"#e6f5d0\"],[0.7,\"#b8e186\"],[0.8,\"#7fbc41\"],[0.9,\"#4d9221\"],[1,\"#276419\"]]},\"xaxis\":{\"gridcolor\":\"white\",\"linecolor\":\"white\",\"ticks\":\"\",\"title\":{\"standoff\":15},\"zerolinecolor\":\"white\",\"automargin\":true,\"zerolinewidth\":2},\"yaxis\":{\"gridcolor\":\"white\",\"linecolor\":\"white\",\"ticks\":\"\",\"title\":{\"standoff\":15},\"zerolinecolor\":\"white\",\"automargin\":true,\"zerolinewidth\":2},\"scene\":{\"xaxis\":{\"backgroundcolor\":\"#E5ECF6\",\"gridcolor\":\"white\",\"linecolor\":\"white\",\"showbackground\":true,\"ticks\":\"\",\"zerolinecolor\":\"white\",\"gridwidth\":2},\"yaxis\":{\"backgroundcolor\":\"#E5ECF6\",\"gridcolor\":\"white\",\"linecolor\":\"white\",\"showbackground\":true,\"ticks\":\"\",\"zerolinecolor\":\"white\",\"gridwidth\":2},\"zaxis\":{\"backgroundcolor\":\"#E5ECF6\",\"gridcolor\":\"white\",\"linecolor\":\"white\",\"showbackground\":true,\"ticks\":\"\",\"zerolinecolor\":\"white\",\"gridwidth\":2}},\"shapedefaults\":{\"line\":{\"color\":\"#2a3f5f\"}},\"annotationdefaults\":{\"arrowcolor\":\"#2a3f5f\",\"arrowhead\":0,\"arrowwidth\":1},\"geo\":{\"bgcolor\":\"white\",\"landcolor\":\"#E5ECF6\",\"subunitcolor\":\"white\",\"showland\":true,\"showlakes\":true,\"lakecolor\":\"white\"},\"title\":{\"x\":0.05},\"mapbox\":{\"style\":\"light\"}}},\"legend\":{\"tracegroupgap\":0},\"margin\":{\"t\":60}},                        {\"responsive\": true}                    ).then(function(){\n",
       "                            \n",
       "var gd = document.getElementById('a47acc52-868c-4916-9f1b-113b8fc6f93e');\n",
       "var x = new MutationObserver(function (mutations, observer) {{\n",
       "        var display = window.getComputedStyle(gd).display;\n",
       "        if (!display || display === 'none') {{\n",
       "            console.log([gd, 'removed!']);\n",
       "            Plotly.purge(gd);\n",
       "            observer.disconnect();\n",
       "        }}\n",
       "}});\n",
       "\n",
       "// Listen for the removal of the full notebook cells\n",
       "var notebookContainer = gd.closest('#notebook-container');\n",
       "if (notebookContainer) {{\n",
       "    x.observe(notebookContainer, {childList: true});\n",
       "}}\n",
       "\n",
       "// Listen for the clearing of the current output cell\n",
       "var outputEl = gd.closest('.output');\n",
       "if (outputEl) {{\n",
       "    x.observe(outputEl, {childList: true});\n",
       "}}\n",
       "\n",
       "                        })                };                });            </script>        </div>"
      ]
     },
     "metadata": {},
     "output_type": "display_data"
    }
   ],
   "source": [
    "import plotly.express as px\n",
    "\n",
    "class_names = ['Benign', 'G3', 'G4', 'G5'] \n",
    "\n",
    "n_benign = len(os.listdir(train_dir + 'Benign'))\n",
    "n_g3 = len(os.listdir(train_dir + 'G3'))\n",
    "n_g4 = len(os.listdir(train_dir + 'G4'))\n",
    "n_g5 = len(os.listdir(train_dir + 'G5'))\n",
    "n_images = [n_benign, n_g3, n_g4, n_g5]\n",
    "px.pie(names=class_names, values=n_images)"
   ]
  },
  {
   "cell_type": "markdown",
   "id": "afd3d09f",
   "metadata": {
    "papermill": {
     "duration": 0.005729,
     "end_time": "2023-01-08T12:16:54.005993",
     "exception": false,
     "start_time": "2023-01-08T12:16:54.000264",
     "status": "completed"
    },
    "tags": []
   },
   "source": [
    "# **<span style=\"color:#cd486b;\">Model</span>**\n"
   ]
  },
  {
   "cell_type": "code",
   "execution_count": 9,
   "id": "edf32538",
   "metadata": {
    "execution": {
     "iopub.execute_input": "2023-01-08T12:16:54.018232Z",
     "iopub.status.busy": "2023-01-08T12:16:54.017921Z",
     "iopub.status.idle": "2023-01-08T12:16:56.884595Z",
     "shell.execute_reply": "2023-01-08T12:16:56.883627Z"
    },
    "papermill": {
     "duration": 2.875299,
     "end_time": "2023-01-08T12:16:56.886793",
     "exception": false,
     "start_time": "2023-01-08T12:16:54.011494",
     "status": "completed"
    },
    "tags": []
   },
   "outputs": [
    {
     "name": "stderr",
     "output_type": "stream",
     "text": [
      "2023-01-08 12:16:54.124809: I tensorflow/stream_executor/cuda/cuda_gpu_executor.cc:937] successful NUMA node read from SysFS had negative value (-1), but there must be at least one NUMA node, so returning NUMA node zero\n",
      "2023-01-08 12:16:54.128658: I tensorflow/stream_executor/cuda/cuda_gpu_executor.cc:937] successful NUMA node read from SysFS had negative value (-1), but there must be at least one NUMA node, so returning NUMA node zero\n",
      "2023-01-08 12:16:54.129391: I tensorflow/stream_executor/cuda/cuda_gpu_executor.cc:937] successful NUMA node read from SysFS had negative value (-1), but there must be at least one NUMA node, so returning NUMA node zero\n",
      "2023-01-08 12:16:54.131390: I tensorflow/core/platform/cpu_feature_guard.cc:142] This TensorFlow binary is optimized with oneAPI Deep Neural Network Library (oneDNN) to use the following CPU instructions in performance-critical operations:  AVX2 AVX512F FMA\n",
      "To enable them in other operations, rebuild TensorFlow with the appropriate compiler flags.\n",
      "2023-01-08 12:16:54.131630: I tensorflow/stream_executor/cuda/cuda_gpu_executor.cc:937] successful NUMA node read from SysFS had negative value (-1), but there must be at least one NUMA node, so returning NUMA node zero\n",
      "2023-01-08 12:16:54.132327: I tensorflow/stream_executor/cuda/cuda_gpu_executor.cc:937] successful NUMA node read from SysFS had negative value (-1), but there must be at least one NUMA node, so returning NUMA node zero\n",
      "2023-01-08 12:16:54.132964: I tensorflow/stream_executor/cuda/cuda_gpu_executor.cc:937] successful NUMA node read from SysFS had negative value (-1), but there must be at least one NUMA node, so returning NUMA node zero\n",
      "2023-01-08 12:16:56.445329: I tensorflow/stream_executor/cuda/cuda_gpu_executor.cc:937] successful NUMA node read from SysFS had negative value (-1), but there must be at least one NUMA node, so returning NUMA node zero\n",
      "2023-01-08 12:16:56.446213: I tensorflow/stream_executor/cuda/cuda_gpu_executor.cc:937] successful NUMA node read from SysFS had negative value (-1), but there must be at least one NUMA node, so returning NUMA node zero\n",
      "2023-01-08 12:16:56.446898: I tensorflow/stream_executor/cuda/cuda_gpu_executor.cc:937] successful NUMA node read from SysFS had negative value (-1), but there must be at least one NUMA node, so returning NUMA node zero\n",
      "2023-01-08 12:16:56.447508: I tensorflow/core/common_runtime/gpu/gpu_device.cc:1510] Created device /job:localhost/replica:0/task:0/device:GPU:0 with 15381 MB memory:  -> device: 0, name: Tesla P100-PCIE-16GB, pci bus id: 0000:00:04.0, compute capability: 6.0\n"
     ]
    }
   ],
   "source": [
    "model = tf.keras.models.Sequential([\n",
    "    Conv2D(16, (3,3), activation = 'relu', input_shape = (240,240, 3)),\n",
    "    MaxPooling2D(2,2),\n",
    "    Conv2D(32, (3,3), activation = 'relu'),\n",
    "    MaxPooling2D(2,2),\n",
    "    Conv2D(32, (3,3), activation = 'relu'),\n",
    "    MaxPooling2D(2,2),\n",
    "    Conv2D(32, (3,3), activation = 'relu'),\n",
    "    MaxPooling2D(2,2),\n",
    "    Flatten(),\n",
    "    Dense(512, activation = 'relu'),\n",
    "    Dropout(0.2),\n",
    "    Dense(4, activation = 'softmax') # 4 classes\n",
    "])"
   ]
  },
  {
   "cell_type": "code",
   "execution_count": 10,
   "id": "396d9d8f",
   "metadata": {
    "execution": {
     "iopub.execute_input": "2023-01-08T12:16:56.901334Z",
     "iopub.status.busy": "2023-01-08T12:16:56.899728Z",
     "iopub.status.idle": "2023-01-08T12:16:56.906410Z",
     "shell.execute_reply": "2023-01-08T12:16:56.905220Z"
    },
    "papermill": {
     "duration": 0.016079,
     "end_time": "2023-01-08T12:16:56.909060",
     "exception": false,
     "start_time": "2023-01-08T12:16:56.892981",
     "status": "completed"
    },
    "tags": []
   },
   "outputs": [
    {
     "name": "stdout",
     "output_type": "stream",
     "text": [
      "12\n"
     ]
    }
   ],
   "source": [
    "print(len(model.layers))"
   ]
  },
  {
   "cell_type": "code",
   "execution_count": 11,
   "id": "7d0ab11a",
   "metadata": {
    "execution": {
     "iopub.execute_input": "2023-01-08T12:16:56.922449Z",
     "iopub.status.busy": "2023-01-08T12:16:56.921873Z",
     "iopub.status.idle": "2023-01-08T12:16:56.928519Z",
     "shell.execute_reply": "2023-01-08T12:16:56.927522Z"
    },
    "papermill": {
     "duration": 0.016139,
     "end_time": "2023-01-08T12:16:56.931418",
     "exception": false,
     "start_time": "2023-01-08T12:16:56.915279",
     "status": "completed"
    },
    "tags": []
   },
   "outputs": [
    {
     "name": "stdout",
     "output_type": "stream",
     "text": [
      "Model: \"sequential\"\n",
      "_________________________________________________________________\n",
      "Layer (type)                 Output Shape              Param #   \n",
      "=================================================================\n",
      "conv2d (Conv2D)              (None, 238, 238, 16)      448       \n",
      "_________________________________________________________________\n",
      "max_pooling2d (MaxPooling2D) (None, 119, 119, 16)      0         \n",
      "_________________________________________________________________\n",
      "conv2d_1 (Conv2D)            (None, 117, 117, 32)      4640      \n",
      "_________________________________________________________________\n",
      "max_pooling2d_1 (MaxPooling2 (None, 58, 58, 32)        0         \n",
      "_________________________________________________________________\n",
      "conv2d_2 (Conv2D)            (None, 56, 56, 32)        9248      \n",
      "_________________________________________________________________\n",
      "max_pooling2d_2 (MaxPooling2 (None, 28, 28, 32)        0         \n",
      "_________________________________________________________________\n",
      "conv2d_3 (Conv2D)            (None, 26, 26, 32)        9248      \n",
      "_________________________________________________________________\n",
      "max_pooling2d_3 (MaxPooling2 (None, 13, 13, 32)        0         \n",
      "_________________________________________________________________\n",
      "flatten (Flatten)            (None, 5408)              0         \n",
      "_________________________________________________________________\n",
      "dense (Dense)                (None, 512)               2769408   \n",
      "_________________________________________________________________\n",
      "dropout (Dropout)            (None, 512)               0         \n",
      "_________________________________________________________________\n",
      "dense_1 (Dense)              (None, 4)                 2052      \n",
      "=================================================================\n",
      "Total params: 2,795,044\n",
      "Trainable params: 2,795,044\n",
      "Non-trainable params: 0\n",
      "_________________________________________________________________\n"
     ]
    }
   ],
   "source": [
    "model.summary()"
   ]
  },
  {
   "cell_type": "markdown",
   "id": "987399ee",
   "metadata": {
    "papermill": {
     "duration": 0.00554,
     "end_time": "2023-01-08T12:16:56.942823",
     "exception": false,
     "start_time": "2023-01-08T12:16:56.937283",
     "status": "completed"
    },
    "tags": []
   },
   "source": [
    "# **<span style=\"color:#cd486b;\">Failed Experiment</span>**\n"
   ]
  },
  {
   "cell_type": "code",
   "execution_count": 12,
   "id": "f5aa858b",
   "metadata": {
    "execution": {
     "iopub.execute_input": "2023-01-08T12:16:56.955544Z",
     "iopub.status.busy": "2023-01-08T12:16:56.955286Z",
     "iopub.status.idle": "2023-01-08T12:19:55.445247Z",
     "shell.execute_reply": "2023-01-08T12:19:55.444236Z"
    },
    "papermill": {
     "duration": 178.499111,
     "end_time": "2023-01-08T12:19:55.447693",
     "exception": false,
     "start_time": "2023-01-08T12:16:56.948582",
     "status": "completed"
    },
    "tags": []
   },
   "outputs": [
    {
     "name": "stderr",
     "output_type": "stream",
     "text": [
      "2023-01-08 12:17:07.624348: I tensorflow/compiler/mlir/mlir_graph_optimization_pass.cc:185] None of the MLIR Optimization Passes are enabled (registered 2)\n"
     ]
    },
    {
     "name": "stdout",
     "output_type": "stream",
     "text": [
      "Epoch 1/20\n"
     ]
    },
    {
     "name": "stderr",
     "output_type": "stream",
     "text": [
      "2023-01-08 12:17:13.334441: I tensorflow/stream_executor/cuda/cuda_dnn.cc:369] Loaded cuDNN version 8005\n"
     ]
    },
    {
     "name": "stdout",
     "output_type": "stream",
     "text": [
      "5/5 [==============================] - 32s 5s/step - loss: 2.5150 - accuracy: 0.3660\n",
      "Epoch 2/20\n",
      "5/5 [==============================] - 7s 2s/step - loss: 1.4415 - accuracy: 0.1961\n",
      "Epoch 3/20\n",
      "5/5 [==============================] - 6s 1s/step - loss: 1.4130 - accuracy: 0.0588\n",
      "Epoch 4/20\n",
      "5/5 [==============================] - 8s 2s/step - loss: 1.3929 - accuracy: 0.2353\n",
      "Epoch 5/20\n",
      "5/5 [==============================] - 6s 1s/step - loss: 1.3901 - accuracy: 0.3725\n",
      "Epoch 6/20\n",
      "5/5 [==============================] - 7s 1s/step - loss: 1.4327 - accuracy: 0.3007\n",
      "Epoch 7/20\n",
      "5/5 [==============================] - 8s 2s/step - loss: 1.3760 - accuracy: 0.3007\n",
      "Epoch 8/20\n",
      "5/5 [==============================] - 7s 1s/step - loss: 1.3834 - accuracy: 0.2680\n",
      "Epoch 9/20\n",
      "5/5 [==============================] - 6s 1s/step - loss: 1.3786 - accuracy: 0.2941\n",
      "Epoch 10/20\n",
      "5/5 [==============================] - 7s 2s/step - loss: 1.3727 - accuracy: 0.1830\n",
      "Epoch 11/20\n",
      "5/5 [==============================] - 6s 1s/step - loss: 1.3680 - accuracy: 0.2157\n",
      "Epoch 12/20\n",
      "5/5 [==============================] - 7s 1s/step - loss: 1.3656 - accuracy: 0.2353\n",
      "Epoch 13/20\n",
      "5/5 [==============================] - 6s 1s/step - loss: 1.3345 - accuracy: 0.2288\n",
      "Epoch 14/20\n",
      "5/5 [==============================] - 7s 1s/step - loss: 1.3097 - accuracy: 0.3007\n",
      "Epoch 15/20\n",
      "5/5 [==============================] - 6s 1s/step - loss: 1.3375 - accuracy: 0.3007\n",
      "Epoch 16/20\n",
      "5/5 [==============================] - 7s 2s/step - loss: 1.3799 - accuracy: 0.3007\n",
      "Epoch 17/20\n",
      "5/5 [==============================] - 7s 1s/step - loss: 1.3762 - accuracy: 0.3007\n",
      "Epoch 18/20\n",
      "5/5 [==============================] - 7s 1s/step - loss: 1.3848 - accuracy: 0.1503\n",
      "Epoch 19/20\n",
      "5/5 [==============================] - 6s 1s/step - loss: 1.4011 - accuracy: 0.1765\n",
      "Epoch 20/20\n",
      "5/5 [==============================] - 7s 1s/step - loss: 1.3730 - accuracy: 0.3007\n"
     ]
    }
   ],
   "source": [
    "model.compile(loss = 'categorical_crossentropy', optimizer = tf.keras.optimizers.Adam(), metrics = ['accuracy'])\n",
    "history = model.fit(train_data, epochs = 20, steps_per_epoch = len(train_data), \n",
    "                    validation_data = test_data, validation_steps = int(0.25 * len(test_data)))"
   ]
  },
  {
   "cell_type": "code",
   "execution_count": 13,
   "id": "1b8c6e5a",
   "metadata": {
    "execution": {
     "iopub.execute_input": "2023-01-08T12:19:55.475730Z",
     "iopub.status.busy": "2023-01-08T12:19:55.475427Z",
     "iopub.status.idle": "2023-01-08T12:19:59.076742Z",
     "shell.execute_reply": "2023-01-08T12:19:59.075511Z"
    },
    "papermill": {
     "duration": 3.617885,
     "end_time": "2023-01-08T12:19:59.079396",
     "exception": false,
     "start_time": "2023-01-08T12:19:55.461511",
     "status": "completed"
    },
    "tags": []
   },
   "outputs": [
    {
     "name": "stdout",
     "output_type": "stream",
     "text": [
      "2/2 [==============================] - 2s 305ms/step - loss: 1.3478 - accuracy: 0.2500\n",
      "Test: accuracy = 0.250000  ;  loss = 1.347763\n"
     ]
    }
   ],
   "source": [
    "loss_test, acc_test = model.evaluate(test_data)\n",
    "print(\"Test: accuracy = %f  ;  loss = %f\" % (acc_test, loss_test))"
   ]
  },
  {
   "cell_type": "markdown",
   "id": "4bee3ebe",
   "metadata": {
    "papermill": {
     "duration": 0.013053,
     "end_time": "2023-01-08T12:19:59.106031",
     "exception": false,
     "start_time": "2023-01-08T12:19:59.092978",
     "status": "completed"
    },
    "tags": []
   },
   "source": [
    "# **<span style=\"color:#cd486b;\">Try Transfer Learning</span>**\n"
   ]
  },
  {
   "cell_type": "code",
   "execution_count": 14,
   "id": "3ecdbef7",
   "metadata": {
    "execution": {
     "iopub.execute_input": "2023-01-08T12:19:59.132935Z",
     "iopub.status.busy": "2023-01-08T12:19:59.132615Z",
     "iopub.status.idle": "2023-01-08T12:20:01.066320Z",
     "shell.execute_reply": "2023-01-08T12:20:01.065347Z"
    },
    "papermill": {
     "duration": 1.949923,
     "end_time": "2023-01-08T12:20:01.068762",
     "exception": false,
     "start_time": "2023-01-08T12:19:59.118839",
     "status": "completed"
    },
    "tags": []
   },
   "outputs": [
    {
     "name": "stdout",
     "output_type": "stream",
     "text": [
      "Downloading data from https://storage.googleapis.com/tensorflow/keras-applications/resnet/resnet50v2_weights_tf_dim_ordering_tf_kernels_notop.h5\n",
      "94674944/94668760 [==============================] - 0s 0us/step\n",
      "94683136/94668760 [==============================] - 0s 0us/step\n"
     ]
    }
   ],
   "source": [
    "#transfer learning\n",
    "\n",
    "base_model = tf.keras.applications.ResNet50V2(include_top = False)\n",
    "base_model.trainable = False\n",
    "\n",
    "inputs = tf.keras.layers.Input(shape = (240, 240, 3), name = 'InputLayer')\n",
    "x = base_model(inputs)\n",
    "x = tf.keras.layers.GlobalAveragePooling2D(name = 'global_average_pooling_layer')(x)\n",
    "x = tf.keras.layers.Dense(512, activation = 'softmax', name = 'Dense_layer')(x)\n",
    "x = Dropout(0.2)(x)\n",
    "outputs = tf.keras.layers.Dense(4, activation = 'softmax', name = 'output_layer')(x)\n",
    "\n",
    "model = tf.keras.Model(inputs, outputs)"
   ]
  },
  {
   "cell_type": "code",
   "execution_count": 15,
   "id": "03425271",
   "metadata": {
    "execution": {
     "iopub.execute_input": "2023-01-08T12:20:01.099263Z",
     "iopub.status.busy": "2023-01-08T12:20:01.098950Z",
     "iopub.status.idle": "2023-01-08T12:20:01.104145Z",
     "shell.execute_reply": "2023-01-08T12:20:01.103260Z"
    },
    "papermill": {
     "duration": 0.022624,
     "end_time": "2023-01-08T12:20:01.106533",
     "exception": false,
     "start_time": "2023-01-08T12:20:01.083909",
     "status": "completed"
    },
    "tags": []
   },
   "outputs": [
    {
     "name": "stdout",
     "output_type": "stream",
     "text": [
      "6\n"
     ]
    }
   ],
   "source": [
    "print(len(model.layers))"
   ]
  },
  {
   "cell_type": "code",
   "execution_count": 16,
   "id": "4d63347a",
   "metadata": {
    "execution": {
     "iopub.execute_input": "2023-01-08T12:20:01.134424Z",
     "iopub.status.busy": "2023-01-08T12:20:01.134124Z",
     "iopub.status.idle": "2023-01-08T12:20:01.145958Z",
     "shell.execute_reply": "2023-01-08T12:20:01.145052Z"
    },
    "papermill": {
     "duration": 0.028395,
     "end_time": "2023-01-08T12:20:01.148351",
     "exception": false,
     "start_time": "2023-01-08T12:20:01.119956",
     "status": "completed"
    },
    "tags": []
   },
   "outputs": [
    {
     "name": "stdout",
     "output_type": "stream",
     "text": [
      "Model: \"model\"\n",
      "_________________________________________________________________\n",
      "Layer (type)                 Output Shape              Param #   \n",
      "=================================================================\n",
      "InputLayer (InputLayer)      [(None, 240, 240, 3)]     0         \n",
      "_________________________________________________________________\n",
      "resnet50v2 (Functional)      (None, None, None, 2048)  23564800  \n",
      "_________________________________________________________________\n",
      "global_average_pooling_layer (None, 2048)              0         \n",
      "_________________________________________________________________\n",
      "Dense_layer (Dense)          (None, 512)               1049088   \n",
      "_________________________________________________________________\n",
      "dropout_1 (Dropout)          (None, 512)               0         \n",
      "_________________________________________________________________\n",
      "output_layer (Dense)         (None, 4)                 2052      \n",
      "=================================================================\n",
      "Total params: 24,615,940\n",
      "Trainable params: 1,051,140\n",
      "Non-trainable params: 23,564,800\n",
      "_________________________________________________________________\n"
     ]
    }
   ],
   "source": [
    "model.summary()"
   ]
  },
  {
   "cell_type": "code",
   "execution_count": 17,
   "id": "b199cb6b",
   "metadata": {
    "execution": {
     "iopub.execute_input": "2023-01-08T12:20:01.177554Z",
     "iopub.status.busy": "2023-01-08T12:20:01.176783Z",
     "iopub.status.idle": "2023-01-08T12:22:23.266767Z",
     "shell.execute_reply": "2023-01-08T12:22:23.265706Z"
    },
    "papermill": {
     "duration": 142.106981,
     "end_time": "2023-01-08T12:22:23.269353",
     "exception": false,
     "start_time": "2023-01-08T12:20:01.162372",
     "status": "completed"
    },
    "tags": []
   },
   "outputs": [
    {
     "name": "stdout",
     "output_type": "stream",
     "text": [
      "Epoch 1/20\n",
      "5/5 [==============================] - 11s 2s/step - loss: 1.3927 - accuracy: 0.1765\n",
      "Epoch 2/20\n",
      "5/5 [==============================] - 7s 2s/step - loss: 1.3817 - accuracy: 0.3007\n",
      "Epoch 3/20\n",
      "5/5 [==============================] - 7s 1s/step - loss: 1.3751 - accuracy: 0.3007\n",
      "Epoch 4/20\n",
      "5/5 [==============================] - 6s 1s/step - loss: 1.3697 - accuracy: 0.3007\n",
      "Epoch 5/20\n",
      "5/5 [==============================] - 7s 2s/step - loss: 1.3650 - accuracy: 0.3007\n",
      "Epoch 6/20\n",
      "5/5 [==============================] - 8s 2s/step - loss: 1.3571 - accuracy: 0.3007\n",
      "Epoch 7/20\n",
      "5/5 [==============================] - 6s 1s/step - loss: 1.3519 - accuracy: 0.3007\n",
      "Epoch 8/20\n",
      "5/5 [==============================] - 7s 1s/step - loss: 1.3459 - accuracy: 0.3072\n",
      "Epoch 9/20\n",
      "5/5 [==============================] - 6s 1s/step - loss: 1.3428 - accuracy: 0.3137\n",
      "Epoch 10/20\n",
      "5/5 [==============================] - 6s 1s/step - loss: 1.3362 - accuracy: 0.4183\n",
      "Epoch 11/20\n",
      "5/5 [==============================] - 6s 1s/step - loss: 1.3308 - accuracy: 0.4314\n",
      "Epoch 12/20\n",
      "5/5 [==============================] - 6s 1s/step - loss: 1.3216 - accuracy: 0.4575\n",
      "Epoch 13/20\n",
      "5/5 [==============================] - 7s 2s/step - loss: 1.3246 - accuracy: 0.3922\n",
      "Epoch 14/20\n",
      "5/5 [==============================] - 6s 1s/step - loss: 1.3136 - accuracy: 0.5294\n",
      "Epoch 15/20\n",
      "5/5 [==============================] - 6s 1s/step - loss: 1.3047 - accuracy: 0.5817\n",
      "Epoch 16/20\n",
      "5/5 [==============================] - 6s 1s/step - loss: 1.2998 - accuracy: 0.6275\n",
      "Epoch 17/20\n",
      "5/5 [==============================] - 7s 1s/step - loss: 1.2940 - accuracy: 0.6078\n",
      "Epoch 18/20\n",
      "5/5 [==============================] - 6s 1s/step - loss: 1.2879 - accuracy: 0.6013\n",
      "Epoch 19/20\n",
      "5/5 [==============================] - 6s 1s/step - loss: 1.2729 - accuracy: 0.6471\n",
      "Epoch 20/20\n",
      "5/5 [==============================] - 7s 1s/step - loss: 1.2593 - accuracy: 0.6863\n"
     ]
    }
   ],
   "source": [
    "\n",
    "model.compile(loss = 'categorical_crossentropy', optimizer = tf.keras.optimizers.Adam(learning_rate = 0.001), metrics = ['accuracy'])\n",
    "history = model.fit(train_data, epochs = 20, steps_per_epoch = len(train_data), \n",
    "                    validation_data = test_data, validation_steps = int(0.25 * len(test_data)))"
   ]
  },
  {
   "cell_type": "markdown",
   "id": "13851138",
   "metadata": {
    "papermill": {
     "duration": 0.020487,
     "end_time": "2023-01-08T12:22:23.311289",
     "exception": false,
     "start_time": "2023-01-08T12:22:23.290802",
     "status": "completed"
    },
    "tags": []
   },
   "source": [
    "# **<span style=\"color:#cd486b;\">Plots</span>**\n"
   ]
  },
  {
   "cell_type": "code",
   "execution_count": 18,
   "id": "a1e49d28",
   "metadata": {
    "execution": {
     "iopub.execute_input": "2023-01-08T12:22:23.354137Z",
     "iopub.status.busy": "2023-01-08T12:22:23.353290Z",
     "iopub.status.idle": "2023-01-08T12:22:27.036625Z",
     "shell.execute_reply": "2023-01-08T12:22:27.035569Z"
    },
    "papermill": {
     "duration": 3.707258,
     "end_time": "2023-01-08T12:22:27.039033",
     "exception": false,
     "start_time": "2023-01-08T12:22:23.331775",
     "status": "completed"
    },
    "tags": []
   },
   "outputs": [
    {
     "name": "stdout",
     "output_type": "stream",
     "text": [
      "2/2 [==============================] - 2s 473ms/step - loss: 1.2793 - accuracy: 0.7000\n",
      "Test: accuracy = 0.700000  ;  loss = 1.279350\n"
     ]
    }
   ],
   "source": [
    "loss_test, acc_test = model.evaluate(test_data)\n",
    "print(\"Test: accuracy = %f  ;  loss = %f\" % (acc_test, loss_test))\n",
    "model.save(\"resnet50v2_model.h5\")"
   ]
  },
  {
   "cell_type": "code",
   "execution_count": 19,
   "id": "c658b81c",
   "metadata": {
    "execution": {
     "iopub.execute_input": "2023-01-08T12:22:27.083703Z",
     "iopub.status.busy": "2023-01-08T12:22:27.082843Z",
     "iopub.status.idle": "2023-01-08T12:22:27.099147Z",
     "shell.execute_reply": "2023-01-08T12:22:27.098243Z"
    },
    "papermill": {
     "duration": 0.040272,
     "end_time": "2023-01-08T12:22:27.101280",
     "exception": false,
     "start_time": "2023-01-08T12:22:27.061008",
     "status": "completed"
    },
    "tags": []
   },
   "outputs": [
    {
     "data": {
      "text/html": [
       "<div>\n",
       "<style scoped>\n",
       "    .dataframe tbody tr th:only-of-type {\n",
       "        vertical-align: middle;\n",
       "    }\n",
       "\n",
       "    .dataframe tbody tr th {\n",
       "        vertical-align: top;\n",
       "    }\n",
       "\n",
       "    .dataframe thead th {\n",
       "        text-align: right;\n",
       "    }\n",
       "</style>\n",
       "<table border=\"1\" class=\"dataframe\">\n",
       "  <thead>\n",
       "    <tr style=\"text-align: right;\">\n",
       "      <th></th>\n",
       "      <th>loss</th>\n",
       "      <th>accuracy</th>\n",
       "    </tr>\n",
       "  </thead>\n",
       "  <tbody>\n",
       "    <tr>\n",
       "      <th>15</th>\n",
       "      <td>1.299824</td>\n",
       "      <td>0.627451</td>\n",
       "    </tr>\n",
       "    <tr>\n",
       "      <th>16</th>\n",
       "      <td>1.293975</td>\n",
       "      <td>0.607843</td>\n",
       "    </tr>\n",
       "    <tr>\n",
       "      <th>17</th>\n",
       "      <td>1.287922</td>\n",
       "      <td>0.601307</td>\n",
       "    </tr>\n",
       "    <tr>\n",
       "      <th>18</th>\n",
       "      <td>1.272921</td>\n",
       "      <td>0.647059</td>\n",
       "    </tr>\n",
       "    <tr>\n",
       "      <th>19</th>\n",
       "      <td>1.259306</td>\n",
       "      <td>0.686275</td>\n",
       "    </tr>\n",
       "  </tbody>\n",
       "</table>\n",
       "</div>"
      ],
      "text/plain": [
       "        loss  accuracy\n",
       "15  1.299824  0.627451\n",
       "16  1.293975  0.607843\n",
       "17  1.287922  0.601307\n",
       "18  1.272921  0.647059\n",
       "19  1.259306  0.686275"
      ]
     },
     "execution_count": 19,
     "metadata": {},
     "output_type": "execute_result"
    }
   ],
   "source": [
    "results = pd.DataFrame(history.history)\n",
    "results.tail()"
   ]
  },
  {
   "cell_type": "code",
   "execution_count": 20,
   "id": "467d561a",
   "metadata": {
    "execution": {
     "iopub.execute_input": "2023-01-08T12:22:27.144530Z",
     "iopub.status.busy": "2023-01-08T12:22:27.144255Z",
     "iopub.status.idle": "2023-01-08T12:22:29.657796Z",
     "shell.execute_reply": "2023-01-08T12:22:29.656834Z"
    },
    "papermill": {
     "duration": 2.558743,
     "end_time": "2023-01-08T12:22:29.680907",
     "exception": false,
     "start_time": "2023-01-08T12:22:27.122164",
     "status": "completed"
    },
    "tags": []
   },
   "outputs": [
    {
     "name": "stdout",
     "output_type": "stream",
     "text": [
      "2/2 [==============================] - 2s 330ms/step - loss: 1.2793 - accuracy: 0.7000\n"
     ]
    },
    {
     "data": {
      "text/plain": [
       "[1.279349684715271, 0.699999988079071]"
      ]
     },
     "execution_count": 20,
     "metadata": {},
     "output_type": "execute_result"
    }
   ],
   "source": [
    "model.evaluate(test_data)"
   ]
  },
  {
   "cell_type": "markdown",
   "id": "9d69a9ba",
   "metadata": {
    "papermill": {
     "duration": 0.032663,
     "end_time": "2023-01-08T12:22:29.755270",
     "exception": false,
     "start_time": "2023-01-08T12:22:29.722607",
     "status": "completed"
    },
    "tags": []
   },
   "source": [
    "# **<span style=\"color:#850E35;\">Conclusion</span>**\n",
    "\n",
    "Clearly, we see there is some overfitting which we can overcome. Rest the ResNet50 did some good work, next we can try inception or DenseNet models as well.\n",
    "\n",
    "-----------------------------------------------------------------------\n",
    "\n",
    "**<span style=\"color:#A77979;\">This is my very first Computer Vision Notebook. This dataset belongs to UKM.</span>**\n",
    "\n",
    "**<span style=\"color:#A77979;\">Please share your feedback and suggestions and help me improve 😇</span>**"
   ]
  }
 ],
 "metadata": {
  "kernelspec": {
   "display_name": "Python 3",
   "language": "python",
   "name": "python3"
  },
  "language_info": {
   "codemirror_mode": {
    "name": "ipython",
    "version": 3
   },
   "file_extension": ".py",
   "mimetype": "text/x-python",
   "name": "python",
   "nbconvert_exporter": "python",
   "pygments_lexer": "ipython3",
   "version": "3.7.12"
  },
  "papermill": {
   "default_parameters": {},
   "duration": 355.468897,
   "end_time": "2023-01-08T12:22:32.770776",
   "environment_variables": {},
   "exception": null,
   "input_path": "__notebook__.ipynb",
   "output_path": "__notebook__.ipynb",
   "parameters": {},
   "start_time": "2023-01-08T12:16:37.301879",
   "version": "2.3.4"
  }
 },
 "nbformat": 4,
 "nbformat_minor": 5
}
